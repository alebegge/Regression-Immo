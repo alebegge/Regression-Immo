{
 "cells": [
  {
   "cell_type": "markdown",
   "id": "7165c5b0",
   "metadata": {},
   "source": [
    "### To do:\n",
    "\n",
    "- Create a function for each modelisation in order to create them easier.\n",
    "- Annote the code. \n",
    "- Compare the modelization\n",
    "\n",
    "***"
   ]
  },
  {
   "cell_type": "markdown",
   "id": "9c0e8aaf",
   "metadata": {},
   "source": [
    "## A. Importing libraries "
   ]
  },
  {
   "cell_type": "code",
   "execution_count": 1,
   "id": "63ce3efe",
   "metadata": {},
   "outputs": [],
   "source": [
    "import pandas as pd\n",
    "import numpy as np \n",
    "import os \n",
    "import re\n",
    "import matplotlib.pyplot as plt\n",
    "import seaborn as sns\n",
    "from sklearn.metrics import r2_score\n",
    "from sklearn.metrics import mean_squared_error\n",
    "from sklearn.model_selection import train_test_split\n",
    "from sklearn.linear_model import LinearRegression\n",
    "from sklearn.datasets import make_regression\n",
    "from sklearn.preprocessing import PolynomialFeatures\n",
    "from sklearn.pipeline import make_pipeline\n",
    "from scipy import stats\n",
    "import statsmodels\n",
    "import statsmodels.api as sm\n",
    "import statsmodels.formula.api as smf\n",
    "import statsmodels.stats.api as sms\n",
    "from statsmodels.compat import lzip\n",
    "import matplotlib.pyplot as plt"
   ]
  },
  {
   "cell_type": "markdown",
   "id": "30d52650",
   "metadata": {},
   "source": [
    "## B. Importing the CSV "
   ]
  },
  {
   "cell_type": "code",
   "execution_count": 2,
   "id": "c7d49837",
   "metadata": {},
   "outputs": [],
   "source": [
    "path_data_set = os.path.join(os.path.abspath(''), 'data_cleaned_reg.csv')\n",
    "df = pd.read_csv(path_data_set, sep=\",\")"
   ]
  },
  {
   "cell_type": "code",
   "execution_count": 3,
   "id": "1f60d798",
   "metadata": {},
   "outputs": [
    {
     "name": "stdout",
     "output_type": "stream",
     "text": [
      "The shape of our file is: (13618, 35). \n"
     ]
    }
   ],
   "source": [
    "print(f\"The shape of our file is: {df.shape}. \")"
   ]
  },
  {
   "cell_type": "code",
   "execution_count": 4,
   "id": "18e22e56",
   "metadata": {
    "scrolled": false
   },
   "outputs": [
    {
     "data": {
      "text/html": [
       "<div>\n",
       "<style scoped>\n",
       "    .dataframe tbody tr th:only-of-type {\n",
       "        vertical-align: middle;\n",
       "    }\n",
       "\n",
       "    .dataframe tbody tr th {\n",
       "        vertical-align: top;\n",
       "    }\n",
       "\n",
       "    .dataframe thead th {\n",
       "        text-align: right;\n",
       "    }\n",
       "</style>\n",
       "<table border=\"1\" class=\"dataframe\">\n",
       "  <thead>\n",
       "    <tr style=\"text-align: right;\">\n",
       "      <th></th>\n",
       "      <th>Unnamed: 0</th>\n",
       "      <th>Price</th>\n",
       "      <th>Number of bedrooms</th>\n",
       "      <th>Livable surface</th>\n",
       "      <th>Kitchen equipment</th>\n",
       "      <th>Number of bathrooms</th>\n",
       "      <th>Number of toilets</th>\n",
       "      <th>Balcony</th>\n",
       "      <th>State of the property</th>\n",
       "      <th>Surface bedroom 1</th>\n",
       "      <th>...</th>\n",
       "      <th>Antwerp</th>\n",
       "      <th>Limburg</th>\n",
       "      <th>Liege</th>\n",
       "      <th>Namur</th>\n",
       "      <th>Hainaut</th>\n",
       "      <th>Luxembourg</th>\n",
       "      <th>West Flanders</th>\n",
       "      <th>East Flanders</th>\n",
       "      <th>Orientation South</th>\n",
       "      <th>Type property</th>\n",
       "    </tr>\n",
       "  </thead>\n",
       "  <tbody>\n",
       "    <tr>\n",
       "      <th>0</th>\n",
       "      <td>0</td>\n",
       "      <td>333500</td>\n",
       "      <td>2</td>\n",
       "      <td>100</td>\n",
       "      <td>2</td>\n",
       "      <td>1</td>\n",
       "      <td>1</td>\n",
       "      <td>0</td>\n",
       "      <td>1</td>\n",
       "      <td>14</td>\n",
       "      <td>...</td>\n",
       "      <td>0</td>\n",
       "      <td>0</td>\n",
       "      <td>0</td>\n",
       "      <td>0</td>\n",
       "      <td>0</td>\n",
       "      <td>0</td>\n",
       "      <td>0</td>\n",
       "      <td>0</td>\n",
       "      <td>0</td>\n",
       "      <td>0</td>\n",
       "    </tr>\n",
       "    <tr>\n",
       "      <th>1</th>\n",
       "      <td>1</td>\n",
       "      <td>379000</td>\n",
       "      <td>1</td>\n",
       "      <td>80</td>\n",
       "      <td>2</td>\n",
       "      <td>1</td>\n",
       "      <td>1</td>\n",
       "      <td>0</td>\n",
       "      <td>1</td>\n",
       "      <td>21</td>\n",
       "      <td>...</td>\n",
       "      <td>0</td>\n",
       "      <td>0</td>\n",
       "      <td>0</td>\n",
       "      <td>0</td>\n",
       "      <td>0</td>\n",
       "      <td>0</td>\n",
       "      <td>0</td>\n",
       "      <td>0</td>\n",
       "      <td>0</td>\n",
       "      <td>0</td>\n",
       "    </tr>\n",
       "    <tr>\n",
       "      <th>2</th>\n",
       "      <td>2</td>\n",
       "      <td>295000</td>\n",
       "      <td>2</td>\n",
       "      <td>80</td>\n",
       "      <td>1</td>\n",
       "      <td>1</td>\n",
       "      <td>1</td>\n",
       "      <td>0</td>\n",
       "      <td>1</td>\n",
       "      <td>11</td>\n",
       "      <td>...</td>\n",
       "      <td>0</td>\n",
       "      <td>0</td>\n",
       "      <td>0</td>\n",
       "      <td>0</td>\n",
       "      <td>0</td>\n",
       "      <td>0</td>\n",
       "      <td>0</td>\n",
       "      <td>0</td>\n",
       "      <td>1</td>\n",
       "      <td>0</td>\n",
       "    </tr>\n",
       "    <tr>\n",
       "      <th>3</th>\n",
       "      <td>3</td>\n",
       "      <td>635000</td>\n",
       "      <td>2</td>\n",
       "      <td>217</td>\n",
       "      <td>2</td>\n",
       "      <td>1</td>\n",
       "      <td>3</td>\n",
       "      <td>0</td>\n",
       "      <td>2</td>\n",
       "      <td>25</td>\n",
       "      <td>...</td>\n",
       "      <td>0</td>\n",
       "      <td>0</td>\n",
       "      <td>0</td>\n",
       "      <td>0</td>\n",
       "      <td>0</td>\n",
       "      <td>0</td>\n",
       "      <td>0</td>\n",
       "      <td>0</td>\n",
       "      <td>0</td>\n",
       "      <td>0</td>\n",
       "    </tr>\n",
       "    <tr>\n",
       "      <th>4</th>\n",
       "      <td>4</td>\n",
       "      <td>595000</td>\n",
       "      <td>2</td>\n",
       "      <td>207</td>\n",
       "      <td>1</td>\n",
       "      <td>2</td>\n",
       "      <td>2</td>\n",
       "      <td>0</td>\n",
       "      <td>2</td>\n",
       "      <td>16</td>\n",
       "      <td>...</td>\n",
       "      <td>0</td>\n",
       "      <td>0</td>\n",
       "      <td>0</td>\n",
       "      <td>0</td>\n",
       "      <td>0</td>\n",
       "      <td>0</td>\n",
       "      <td>0</td>\n",
       "      <td>0</td>\n",
       "      <td>0</td>\n",
       "      <td>0</td>\n",
       "    </tr>\n",
       "  </tbody>\n",
       "</table>\n",
       "<p>5 rows × 35 columns</p>\n",
       "</div>"
      ],
      "text/plain": [
       "   Unnamed: 0   Price  Number of bedrooms  Livable surface  Kitchen equipment  \\\n",
       "0           0  333500                   2              100                  2   \n",
       "1           1  379000                   1               80                  2   \n",
       "2           2  295000                   2               80                  1   \n",
       "3           3  635000                   2              217                  2   \n",
       "4           4  595000                   2              207                  1   \n",
       "\n",
       "   Number of bathrooms  Number of toilets  Balcony  State of the property  \\\n",
       "0                    1                  1        0                      1   \n",
       "1                    1                  1        0                      1   \n",
       "2                    1                  1        0                      1   \n",
       "3                    1                  3        0                      2   \n",
       "4                    2                  2        0                      2   \n",
       "\n",
       "   Surface bedroom 1  ...  Antwerp  Limburg  Liege  Namur  Hainaut  \\\n",
       "0                 14  ...        0        0      0      0        0   \n",
       "1                 21  ...        0        0      0      0        0   \n",
       "2                 11  ...        0        0      0      0        0   \n",
       "3                 25  ...        0        0      0      0        0   \n",
       "4                 16  ...        0        0      0      0        0   \n",
       "\n",
       "   Luxembourg  West Flanders  East Flanders  Orientation South  Type property  \n",
       "0           0              0              0                  0              0  \n",
       "1           0              0              0                  0              0  \n",
       "2           0              0              0                  1              0  \n",
       "3           0              0              0                  0              0  \n",
       "4           0              0              0                  0              0  \n",
       "\n",
       "[5 rows x 35 columns]"
      ]
     },
     "execution_count": 4,
     "metadata": {},
     "output_type": "execute_result"
    }
   ],
   "source": [
    "df.head()"
   ]
  },
  {
   "cell_type": "code",
   "execution_count": 5,
   "id": "ec1b4b57",
   "metadata": {
    "scrolled": true
   },
   "outputs": [],
   "source": [
    "df = df.drop(columns=[\"Unnamed: 0\"])"
   ]
  },
  {
   "cell_type": "markdown",
   "id": "bcd83af2",
   "metadata": {},
   "source": [
    "## C. Correlation visualization"
   ]
  },
  {
   "cell_type": "markdown",
   "id": "990a416b",
   "metadata": {},
   "source": [
    "### 1. General HeatMap "
   ]
  },
  {
   "cell_type": "code",
   "execution_count": 6,
   "id": "582bdb9a",
   "metadata": {},
   "outputs": [
    {
     "data": {
      "image/png": "[encoded data removed]",
      "text/plain": [
       "<Figure size 792x648 with 2 Axes>"
      ]
     },
     "metadata": {
      "needs_background": "light"
     },
     "output_type": "display_data"
    }
   ],
   "source": [
    "fig, ax = plt.subplots(figsize=(11, 9))\n",
    "sns.heatmap(df.corr(), cmap=\"BrBG\", vmin= -1, vmax=1,\n",
    "           linewidth=0.3, cbar_kws={\"shrink\": .8})\n",
    "plt.show()"
   ]
  },
  {
   "cell_type": "markdown",
   "id": "e2839df5",
   "metadata": {},
   "source": [
    "### 2. Correlation value with the Price"
   ]
  },
  {
   "cell_type": "code",
   "execution_count": 7,
   "id": "774421f5",
   "metadata": {
    "scrolled": true
   },
   "outputs": [
    {
     "data": {
      "text/html": [
       "<div>\n",
       "<style scoped>\n",
       "    .dataframe tbody tr th:only-of-type {\n",
       "        vertical-align: middle;\n",
       "    }\n",
       "\n",
       "    .dataframe tbody tr th {\n",
       "        vertical-align: top;\n",
       "    }\n",
       "\n",
       "    .dataframe thead th {\n",
       "        text-align: right;\n",
       "    }\n",
       "</style>\n",
       "<table border=\"1\" class=\"dataframe\">\n",
       "  <thead>\n",
       "    <tr style=\"text-align: right;\">\n",
       "      <th></th>\n",
       "      <th>Price</th>\n",
       "    </tr>\n",
       "  </thead>\n",
       "  <tbody>\n",
       "    <tr>\n",
       "      <th>Price</th>\n",
       "      <td>1.000000</td>\n",
       "    </tr>\n",
       "    <tr>\n",
       "      <th>Livable surface</th>\n",
       "      <td>0.559402</td>\n",
       "    </tr>\n",
       "    <tr>\n",
       "      <th>Number of bathrooms</th>\n",
       "      <td>0.455834</td>\n",
       "    </tr>\n",
       "    <tr>\n",
       "      <th>Number of toilets</th>\n",
       "      <td>0.450423</td>\n",
       "    </tr>\n",
       "    <tr>\n",
       "      <th>Surface of living-room</th>\n",
       "      <td>0.420558</td>\n",
       "    </tr>\n",
       "    <tr>\n",
       "      <th>Surface kitchen</th>\n",
       "      <td>0.402380</td>\n",
       "    </tr>\n",
       "    <tr>\n",
       "      <th>Surface bedroom 1</th>\n",
       "      <td>0.380000</td>\n",
       "    </tr>\n",
       "    <tr>\n",
       "      <th>Number of bedrooms</th>\n",
       "      <td>0.377230</td>\n",
       "    </tr>\n",
       "    <tr>\n",
       "      <th>Number of showers</th>\n",
       "      <td>0.245336</td>\n",
       "    </tr>\n",
       "    <tr>\n",
       "      <th>Garage</th>\n",
       "      <td>0.167133</td>\n",
       "    </tr>\n",
       "    <tr>\n",
       "      <th>Number of facades</th>\n",
       "      <td>0.157786</td>\n",
       "    </tr>\n",
       "    <tr>\n",
       "      <th>Brussels</th>\n",
       "      <td>0.156569</td>\n",
       "    </tr>\n",
       "    <tr>\n",
       "      <th>Surface terrace</th>\n",
       "      <td>0.147148</td>\n",
       "    </tr>\n",
       "    <tr>\n",
       "      <th>Kitchen equipment</th>\n",
       "      <td>0.144850</td>\n",
       "    </tr>\n",
       "    <tr>\n",
       "      <th>Walloon Brabant</th>\n",
       "      <td>0.130494</td>\n",
       "    </tr>\n",
       "    <tr>\n",
       "      <th>Flemish Brabant</th>\n",
       "      <td>0.129743</td>\n",
       "    </tr>\n",
       "    <tr>\n",
       "      <th>Surface garden</th>\n",
       "      <td>0.126976</td>\n",
       "    </tr>\n",
       "    <tr>\n",
       "      <th>Security door</th>\n",
       "      <td>0.110308</td>\n",
       "    </tr>\n",
       "    <tr>\n",
       "      <th>Cellar</th>\n",
       "      <td>0.109900</td>\n",
       "    </tr>\n",
       "    <tr>\n",
       "      <th>State of the property</th>\n",
       "      <td>0.097330</td>\n",
       "    </tr>\n",
       "    <tr>\n",
       "      <th>Access for disabled</th>\n",
       "      <td>0.096302</td>\n",
       "    </tr>\n",
       "    <tr>\n",
       "      <th>Type property</th>\n",
       "      <td>0.094873</td>\n",
       "    </tr>\n",
       "    <tr>\n",
       "      <th>Orientation South</th>\n",
       "      <td>0.042192</td>\n",
       "    </tr>\n",
       "    <tr>\n",
       "      <th>Antwerp</th>\n",
       "      <td>0.033257</td>\n",
       "    </tr>\n",
       "    <tr>\n",
       "      <th>East Flanders</th>\n",
       "      <td>0.001801</td>\n",
       "    </tr>\n",
       "    <tr>\n",
       "      <th>Furnished</th>\n",
       "      <td>-0.011859</td>\n",
       "    </tr>\n",
       "    <tr>\n",
       "      <th>Sewer Connection</th>\n",
       "      <td>-0.021957</td>\n",
       "    </tr>\n",
       "    <tr>\n",
       "      <th>Limburg</th>\n",
       "      <td>-0.024325</td>\n",
       "    </tr>\n",
       "    <tr>\n",
       "      <th>West Flanders</th>\n",
       "      <td>-0.025646</td>\n",
       "    </tr>\n",
       "    <tr>\n",
       "      <th>Balcony</th>\n",
       "      <td>-0.027344</td>\n",
       "    </tr>\n",
       "    <tr>\n",
       "      <th>Luxembourg</th>\n",
       "      <td>-0.030069</td>\n",
       "    </tr>\n",
       "    <tr>\n",
       "      <th>Namur</th>\n",
       "      <td>-0.044719</td>\n",
       "    </tr>\n",
       "    <tr>\n",
       "      <th>Liege</th>\n",
       "      <td>-0.114472</td>\n",
       "    </tr>\n",
       "    <tr>\n",
       "      <th>Hainaut</th>\n",
       "      <td>-0.240587</td>\n",
       "    </tr>\n",
       "  </tbody>\n",
       "</table>\n",
       "</div>"
      ],
      "text/plain": [
       "                           Price\n",
       "Price                   1.000000\n",
       "Livable surface         0.559402\n",
       "Number of bathrooms     0.455834\n",
       "Number of toilets       0.450423\n",
       "Surface of living-room  0.420558\n",
       "Surface kitchen         0.402380\n",
       "Surface bedroom 1       0.380000\n",
       "Number of bedrooms      0.377230\n",
       "Number of showers       0.245336\n",
       "Garage                  0.167133\n",
       "Number of facades       0.157786\n",
       "Brussels                0.156569\n",
       "Surface terrace         0.147148\n",
       "Kitchen equipment       0.144850\n",
       "Walloon Brabant         0.130494\n",
       "Flemish Brabant         0.129743\n",
       "Surface garden          0.126976\n",
       "Security door           0.110308\n",
       "Cellar                  0.109900\n",
       "State of the property   0.097330\n",
       "Access for disabled     0.096302\n",
       "Type property           0.094873\n",
       "Orientation South       0.042192\n",
       "Antwerp                 0.033257\n",
       "East Flanders           0.001801\n",
       "Furnished              -0.011859\n",
       "Sewer Connection       -0.021957\n",
       "Limburg                -0.024325\n",
       "West Flanders          -0.025646\n",
       "Balcony                -0.027344\n",
       "Luxembourg             -0.030069\n",
       "Namur                  -0.044719\n",
       "Liege                  -0.114472\n",
       "Hainaut                -0.240587"
      ]
     },
     "execution_count": 7,
     "metadata": {},
     "output_type": "execute_result"
    }
   ],
   "source": [
    "df1 = df.corr()[[\"Price\"]].sort_values(by='Price', ascending=False)\n",
    "df1"
   ]
  },
  {
   "cell_type": "markdown",
   "id": "9feacb65",
   "metadata": {},
   "source": [
    "### 3. HeatMap of the highest correlated variables with the Price"
   ]
  },
  {
   "cell_type": "code",
   "execution_count": 8,
   "id": "c467e4f1",
   "metadata": {},
   "outputs": [
    {
     "data": {
      "text/plain": [
       "Text(0.5, 1.0, 'Highest correlated features with Price (> |0.2|)')"
      ]
     },
     "execution_count": 8,
     "metadata": {},
     "output_type": "execute_result"
    },
    {
     "data": {
      "image/png": "[encoded data removed]",
      "text/plain": [
       "<Figure size 432x288 with 2 Axes>"
      ]
     },
     "metadata": {
      "needs_background": "light"
     },
     "output_type": "display_data"
    }
   ],
   "source": [
    "df_corr = df1[(df1[\"Price\"] > 0.2) | (df1[\"Price\"] < -0.2)]\n",
    "heatmap = sns.heatmap(df_corr, vmin=-1, vmax=1, annot=True, cmap='BrBG', yticklabels=True, xticklabels=False)\n",
    "heatmap.set_title(\"Highest correlated features with Price (> |0.2|)\", fontdict={'fontsize':16}, pad=20)"
   ]
  },
  {
   "cell_type": "markdown",
   "id": "a67e0854",
   "metadata": {},
   "source": [
    "### 4. HeatMap between the highest correlated to price variables"
   ]
  },
  {
   "cell_type": "code",
   "execution_count": 9,
   "id": "b79c2b48",
   "metadata": {},
   "outputs": [],
   "source": [
    "df_highest_corr = df[[\"Price\",\n",
    "                  \"Livable surface\",\n",
    "                  \"Number of bathrooms\",\n",
    "                  \"Number of toilets\",\n",
    "                  \"Surface of living-room\",\n",
    "                  \"Surface kitchen\",\n",
    "                  \"Surface bedroom 1\",\n",
    "                  \"Number of bedrooms\",\n",
    "                  \"Number of showers\",\n",
    "                  \"Hainaut\"]]"
   ]
  },
  {
   "cell_type": "code",
   "execution_count": 10,
   "id": "4d749c21",
   "metadata": {},
   "outputs": [
    {
     "data": {
      "image/png": "[encoded data removed]",
      "text/plain": [
       "<Figure size 792x648 with 2 Axes>"
      ]
     },
     "metadata": {
      "needs_background": "light"
     },
     "output_type": "display_data"
    }
   ],
   "source": [
    "fig, ax = plt.subplots(figsize=(11, 9))\n",
    "\n",
    "heatmap = sns.heatmap(df_highest_corr.corr(), cmap=\"BrBG\", vmin= -1, vmax=1,\n",
    "           linewidth=0.3, cbar_kws={\"shrink\": .8}, annot=True)\n",
    "heatmap.set_title(\"HeatMap of the most correlated features (< |0.2|)\", fontdict={'fontsize':16}, pad=20)\n",
    "plt.show()"
   ]
  },
  {
   "cell_type": "markdown",
   "id": "50fb0b0e",
   "metadata": {},
   "source": [
    "## D. Linear regressions"
   ]
  },
  {
   "cell_type": "markdown",
   "id": "fa00a9f4",
   "metadata": {},
   "source": [
    "### 1. Simple linear regression \n",
    "\n",
    "We decided to do a linear regression using Livable surface as a single independant variable because it's the most correlated variable."
   ]
  },
  {
   "cell_type": "code",
   "execution_count": 56,
   "id": "959246ac",
   "metadata": {},
   "outputs": [
    {
     "name": "stdout",
     "output_type": "stream",
     "text": [
      "(13618, 1)\n",
      "(13618, 1)\n"
     ]
    }
   ],
   "source": [
    "X = df[\"Livable surface\"].to_numpy()\n",
    "X = X.reshape(-1,1)\n",
    "y = df[\"Price\"].to_numpy()\n",
    "y = y.reshape(-1,1)\n",
    "print(X.shape)\n",
    "print(y.shape)"
   ]
  },
  {
   "cell_type": "code",
   "execution_count": 57,
   "id": "d2187571",
   "metadata": {},
   "outputs": [],
   "source": [
    "X_train, X_test, y_train, y_test = train_test_split(X,y, test_size=0.2)"
   ]
  },
  {
   "cell_type": "code",
   "execution_count": 58,
   "id": "f205ae11",
   "metadata": {},
   "outputs": [
    {
     "data": {
      "text/plain": [
       "0.3051331802747296"
      ]
     },
     "execution_count": 58,
     "metadata": {},
     "output_type": "execute_result"
    }
   ],
   "source": [
    "regr = LinearRegression()\n",
    "regr.fit(X_train, y_train)\n",
    "regr.predict(X_test)\n",
    "regr.score(X_test, y_test)"
   ]
  },
  {
   "cell_type": "code",
   "execution_count": 77,
   "id": "91c6a610",
   "metadata": {
    "scrolled": true
   },
   "outputs": [
    {
     "data": {
      "image/png": "[encoded data removed]",
      "text/plain": [
       "<Figure size 432x288 with 1 Axes>"
      ]
     },
     "metadata": {
      "needs_background": "light"
     },
     "output_type": "display_data"
    }
   ],
   "source": [
    "plt.scatter(X_train, y_train, color=\"#E3B18D\", s=10)\n",
    "plt.plot(X_train, regr.predict(X_train), color='gray', linewidth = 2)\n",
    "plt.xlabel(\"Livable surface (m²)\")\n",
    "plt.ylabel(\"Price (m€)\")\n",
    "plt.title(\"Price vs Livable surface (Trainning set)\", pad=20)\n",
    "plt.ylim(ymin=0)\n",
    "plt.xlim(xmin = 0)\n",
    "plt.show()"
   ]
  },
  {
   "cell_type": "markdown",
   "id": "eab4ebb0",
   "metadata": {},
   "source": [
    "### 2. Multiple lineair regression for the highest correlated\n",
    "\n",
    "We are doing a lineair regression using the most correlated independant variable to the price. \n",
    "\n",
    "Number of independant variables = **9**"
   ]
  },
  {
   "cell_type": "code",
   "execution_count": 15,
   "id": "b980faae",
   "metadata": {},
   "outputs": [
    {
     "name": "stdout",
     "output_type": "stream",
     "text": [
      "(13618, 9)\n",
      "(13618, 1)\n"
     ]
    }
   ],
   "source": [
    "X = df_highest_corr.drop(columns=['Price']).to_numpy()\n",
    "y = df[\"Price\"].to_numpy()\n",
    "y = y.reshape(-1,1)\n",
    "print(X.shape)\n",
    "print(y.shape)"
   ]
  },
  {
   "cell_type": "code",
   "execution_count": 16,
   "id": "91ccd88f",
   "metadata": {},
   "outputs": [],
   "source": [
    "X_train, X_test, y_train, y_test = train_test_split(X,y, test_size=0.2)"
   ]
  },
  {
   "cell_type": "code",
   "execution_count": 17,
   "id": "52d7e368",
   "metadata": {},
   "outputs": [
    {
     "data": {
      "text/plain": [
       "0.48333305040782326"
      ]
     },
     "execution_count": 17,
     "metadata": {},
     "output_type": "execute_result"
    }
   ],
   "source": [
    "regr = LinearRegression()\n",
    "regr.fit(X_train, y_train)\n",
    "regr.predict(X_test)\n",
    "regr.score(X_test, y_test)"
   ]
  },
  {
   "cell_type": "markdown",
   "id": "7587ce7a",
   "metadata": {},
   "source": [
    "### 3. Multiple linear regression for all variables\n",
    "\n",
    "Number of independant variables = **33**"
   ]
  },
  {
   "cell_type": "code",
   "execution_count": 107,
   "id": "033b0c4c",
   "metadata": {},
   "outputs": [
    {
     "name": "stdout",
     "output_type": "stream",
     "text": [
      "(13618, 33)\n",
      "(13618, 1)\n"
     ]
    }
   ],
   "source": [
    "X = df.drop(columns=['Price']).to_numpy()\n",
    "y = df[\"Price\"].to_numpy()\n",
    "y = y.reshape(-1,1)\n",
    "print(X.shape)\n",
    "print(y.shape)"
   ]
  },
  {
   "cell_type": "code",
   "execution_count": 108,
   "id": "30e01b16",
   "metadata": {},
   "outputs": [],
   "source": [
    "X_train, X_test, y_train, y_test = train_test_split(X,y, test_size=0.2)"
   ]
  },
  {
   "cell_type": "code",
   "execution_count": 109,
   "id": "6e6f4ce8",
   "metadata": {},
   "outputs": [
    {
     "data": {
      "text/plain": [
       "0.5375213400393971"
      ]
     },
     "execution_count": 109,
     "metadata": {},
     "output_type": "execute_result"
    }
   ],
   "source": [
    "regr = LinearRegression()\n",
    "regr.fit(X_train, y_train)\n",
    "y_pred = regr.predict(X_test)\n",
    "regr.score(X_test, y_test)"
   ]
  },
  {
   "cell_type": "markdown",
   "id": "4686efe8",
   "metadata": {},
   "source": [
    "Creating a visualization with scatter and plot line. "
   ]
  },
  {
   "cell_type": "code",
   "execution_count": 128,
   "id": "40787c33",
   "metadata": {
    "scrolled": false
   },
   "outputs": [
    {
     "name": "stderr",
     "output_type": "stream",
     "text": [
      "C:\\Users\\alebe\\AppData\\Local\\Programs\\Python\\Python310\\lib\\site-packages\\seaborn\\_decorators.py:36: FutureWarning: Pass the following variables as keyword args: x, y. From version 0.12, the only valid positional argument will be `data`, and passing other arguments without an explicit keyword will result in an error or misinterpretation.\n",
      "  warnings.warn(\n"
     ]
    },
    {
     "data": {
      "image/png": "[encoded data removed]",
      "text/plain": [
       "<Figure size 432x288 with 1 Axes>"
      ]
     },
     "metadata": {
      "needs_background": "light"
     },
     "output_type": "display_data"
    },
    {
     "data": {
      "image/png": "[encoded data removed]",
      "text/plain": [
       "<Figure size 720x360 with 1 Axes>"
      ]
     },
     "metadata": {
      "needs_background": "light"
     },
     "output_type": "display_data"
    }
   ],
   "source": [
    "fig, ax = plt.subplots()\n",
    "\n",
    "plt.figure(figsize=(10,5))\n",
    "# plt.scatter(y_pred, y_test, color=\"black\", label=\"Test set\")\n",
    "plt.scatter(regr.predict(X_train), y_train, color=\"#E3B18D\", label= \"Train set\")\n",
    "# sns.scatterplot(y_test, y_test_predict, c=np.arange(len(y_test)), cmap=\"GnBu\")\n",
    "sns.regplot(y_test, y_pred, data=df, scatter=False, color=\"gray\")\n",
    "plt.title(\"Multiple linear regression on train set\", pad = 20)\n",
    "plt.ylabel(\"Price (€)\")\n",
    "plt.xlabel(\"Predicted price (€)\")\n",
    "plt.xlim(xmin=0)\n",
    "plt.show()"
   ]
  },
  {
   "cell_type": "markdown",
   "id": "46d492fa",
   "metadata": {},
   "source": [
    "#### Using the statsmodels libary to get more data"
   ]
  },
  {
   "cell_type": "code",
   "execution_count": 21,
   "id": "5c2e59a5",
   "metadata": {},
   "outputs": [
    {
     "data": {
      "text/plain": [
       "0.5206224667386212"
      ]
     },
     "execution_count": 21,
     "metadata": {},
     "output_type": "execute_result"
    }
   ],
   "source": [
    "y_pred = regr.predict(X_test)\n",
    "score = r2_score(y_test, y_pred)\n",
    "score"
   ]
  },
  {
   "cell_type": "code",
   "execution_count": 22,
   "id": "f572f5df",
   "metadata": {},
   "outputs": [
    {
     "data": {
      "text/plain": [
       "132114.1443463813"
      ]
     },
     "execution_count": 22,
     "metadata": {},
     "output_type": "execute_result"
    }
   ],
   "source": [
    "mse = mean_squared_error(y_test, y_pred)\n",
    "np.sqrt(mse)"
   ]
  },
  {
   "cell_type": "code",
   "execution_count": 23,
   "id": "9647d649",
   "metadata": {},
   "outputs": [
    {
     "data": {
      "text/plain": [
       "array([-136143.37476467])"
      ]
     },
     "execution_count": 23,
     "metadata": {},
     "output_type": "execute_result"
    }
   ],
   "source": [
    "regr.intercept_"
   ]
  },
  {
   "cell_type": "code",
   "execution_count": 24,
   "id": "6d517a51",
   "metadata": {},
   "outputs": [
    {
     "data": {
      "text/html": [
       "<table class=\"simpletable\">\n",
       "<caption>OLS Regression Results</caption>\n",
       "<tr>\n",
       "  <th>Dep. Variable:</th>            <td>y</td>        <th>  R-squared:         </th>  <td>   0.546</td>  \n",
       "</tr>\n",
       "<tr>\n",
       "  <th>Model:</th>                   <td>OLS</td>       <th>  Adj. R-squared:    </th>  <td>   0.545</td>  \n",
       "</tr>\n",
       "<tr>\n",
       "  <th>Method:</th>             <td>Least Squares</td>  <th>  F-statistic:       </th>  <td>   510.9</td>  \n",
       "</tr>\n",
       "<tr>\n",
       "  <th>Date:</th>             <td>Wed, 16 Feb 2022</td> <th>  Prob (F-statistic):</th>   <td>  0.00</td>   \n",
       "</tr>\n",
       "<tr>\n",
       "  <th>Time:</th>                 <td>09:27:00</td>     <th>  Log-Likelihood:    </th> <td>-1.7922e+05</td>\n",
       "</tr>\n",
       "<tr>\n",
       "  <th>No. Observations:</th>      <td> 13618</td>      <th>  AIC:               </th>  <td>3.585e+05</td> \n",
       "</tr>\n",
       "<tr>\n",
       "  <th>Df Residuals:</th>          <td> 13585</td>      <th>  BIC:               </th>  <td>3.588e+05</td> \n",
       "</tr>\n",
       "<tr>\n",
       "  <th>Df Model:</th>              <td>    32</td>      <th>                     </th>      <td> </td>     \n",
       "</tr>\n",
       "<tr>\n",
       "  <th>Covariance Type:</th>      <td>nonrobust</td>    <th>                     </th>      <td> </td>     \n",
       "</tr>\n",
       "</table>\n",
       "<table class=\"simpletable\">\n",
       "<tr>\n",
       "   <td></td>      <th>coef</th>     <th>std err</th>      <th>t</th>      <th>P>|t|</th>  <th>[0.025</th>    <th>0.975]</th>  \n",
       "</tr>\n",
       "<tr>\n",
       "  <th>x1</th>  <td>  301.0476</td> <td> 1584.117</td> <td>    0.190</td> <td> 0.849</td> <td>-2804.041</td> <td> 3406.136</td>\n",
       "</tr>\n",
       "<tr>\n",
       "  <th>x2</th>  <td> 1432.3837</td> <td>   36.439</td> <td>   39.309</td> <td> 0.000</td> <td> 1360.958</td> <td> 1503.810</td>\n",
       "</tr>\n",
       "<tr>\n",
       "  <th>x3</th>  <td> 1.803e+04</td> <td> 2108.061</td> <td>    8.551</td> <td> 0.000</td> <td> 1.39e+04</td> <td> 2.22e+04</td>\n",
       "</tr>\n",
       "<tr>\n",
       "  <th>x4</th>  <td> 6.971e+04</td> <td> 2971.125</td> <td>   23.462</td> <td> 0.000</td> <td> 6.39e+04</td> <td> 7.55e+04</td>\n",
       "</tr>\n",
       "<tr>\n",
       "  <th>x5</th>  <td>  3.67e+04</td> <td> 2223.822</td> <td>   16.502</td> <td> 0.000</td> <td> 3.23e+04</td> <td> 4.11e+04</td>\n",
       "</tr>\n",
       "<tr>\n",
       "  <th>x6</th>  <td>-2.704e+04</td> <td> 7359.160</td> <td>   -3.674</td> <td> 0.000</td> <td>-4.15e+04</td> <td>-1.26e+04</td>\n",
       "</tr>\n",
       "<tr>\n",
       "  <th>x7</th>  <td> 1.976e+04</td> <td> 1163.748</td> <td>   16.980</td> <td> 0.000</td> <td> 1.75e+04</td> <td>  2.2e+04</td>\n",
       "</tr>\n",
       "<tr>\n",
       "  <th>x8</th>  <td>  416.8762</td> <td>  278.649</td> <td>    1.496</td> <td> 0.135</td> <td> -129.314</td> <td>  963.066</td>\n",
       "</tr>\n",
       "<tr>\n",
       "  <th>x9</th>  <td> 3.192e+04</td> <td> 7285.470</td> <td>    4.381</td> <td> 0.000</td> <td> 1.76e+04</td> <td> 4.62e+04</td>\n",
       "</tr>\n",
       "<tr>\n",
       "  <th>x10</th> <td>  606.6952</td> <td>  116.835</td> <td>    5.193</td> <td> 0.000</td> <td>  377.683</td> <td>  835.708</td>\n",
       "</tr>\n",
       "<tr>\n",
       "  <th>x11</th> <td>-2186.6172</td> <td> 2721.779</td> <td>   -0.803</td> <td> 0.422</td> <td>-7521.682</td> <td> 3148.448</td>\n",
       "</tr>\n",
       "<tr>\n",
       "  <th>x12</th> <td>   13.7420</td> <td>  391.570</td> <td>    0.035</td> <td> 0.972</td> <td> -753.790</td> <td>  781.274</td>\n",
       "</tr>\n",
       "<tr>\n",
       "  <th>x13</th> <td> 1.214e+04</td> <td> 4730.431</td> <td>    2.567</td> <td> 0.010</td> <td> 2872.634</td> <td> 2.14e+04</td>\n",
       "</tr>\n",
       "<tr>\n",
       "  <th>x14</th> <td> 1.938e+04</td> <td> 1634.551</td> <td>   11.854</td> <td> 0.000</td> <td> 1.62e+04</td> <td> 2.26e+04</td>\n",
       "</tr>\n",
       "<tr>\n",
       "  <th>x15</th> <td>  269.0492</td> <td>   35.073</td> <td>    7.671</td> <td> 0.000</td> <td>  200.302</td> <td>  337.797</td>\n",
       "</tr>\n",
       "<tr>\n",
       "  <th>x16</th> <td> 3.912e+04</td> <td> 5331.902</td> <td>    7.336</td> <td> 0.000</td> <td> 2.87e+04</td> <td> 4.96e+04</td>\n",
       "</tr>\n",
       "<tr>\n",
       "  <th>x17</th> <td> 2.253e+04</td> <td> 4479.253</td> <td>    5.029</td> <td> 0.000</td> <td> 1.37e+04</td> <td> 3.13e+04</td>\n",
       "</tr>\n",
       "<tr>\n",
       "  <th>x18</th> <td>-6537.3786</td> <td> 6463.903</td> <td>   -1.011</td> <td> 0.312</td> <td>-1.92e+04</td> <td> 6132.767</td>\n",
       "</tr>\n",
       "<tr>\n",
       "  <th>x19</th> <td>   23.4965</td> <td>    4.649</td> <td>    5.055</td> <td> 0.000</td> <td>   14.385</td> <td>   32.608</td>\n",
       "</tr>\n",
       "<tr>\n",
       "  <th>x20</th> <td> 1.235e+04</td> <td> 2473.007</td> <td>    4.992</td> <td> 0.000</td> <td> 7497.941</td> <td> 1.72e+04</td>\n",
       "</tr>\n",
       "<tr>\n",
       "  <th>x21</th> <td>-5.954e+04</td> <td> 9867.559</td> <td>   -6.034</td> <td> 0.000</td> <td>-7.89e+04</td> <td>-4.02e+04</td>\n",
       "</tr>\n",
       "<tr>\n",
       "  <th>x22</th> <td>-8.999e+04</td> <td> 1.15e+04</td> <td>   -7.795</td> <td> 0.000</td> <td>-1.13e+05</td> <td>-6.74e+04</td>\n",
       "</tr>\n",
       "<tr>\n",
       "  <th>x23</th> <td>-8.694e+04</td> <td> 9999.753</td> <td>   -8.694</td> <td> 0.000</td> <td>-1.07e+05</td> <td>-6.73e+04</td>\n",
       "</tr>\n",
       "<tr>\n",
       "  <th>x24</th> <td>-1.042e+05</td> <td> 9781.007</td> <td>  -10.654</td> <td> 0.000</td> <td>-1.23e+05</td> <td> -8.5e+04</td>\n",
       "</tr>\n",
       "<tr>\n",
       "  <th>x25</th> <td> -1.54e+05</td> <td> 1.05e+04</td> <td>  -14.709</td> <td> 0.000</td> <td>-1.75e+05</td> <td>-1.33e+05</td>\n",
       "</tr>\n",
       "<tr>\n",
       "  <th>x26</th> <td>-1.877e+05</td> <td> 1.02e+04</td> <td>  -18.351</td> <td> 0.000</td> <td>-2.08e+05</td> <td>-1.68e+05</td>\n",
       "</tr>\n",
       "<tr>\n",
       "  <th>x27</th> <td>-1.762e+05</td> <td> 1.31e+04</td> <td>  -13.463</td> <td> 0.000</td> <td>-2.02e+05</td> <td>-1.51e+05</td>\n",
       "</tr>\n",
       "<tr>\n",
       "  <th>x28</th> <td>-2.191e+05</td> <td> 9919.366</td> <td>  -22.092</td> <td> 0.000</td> <td>-2.39e+05</td> <td>   -2e+05</td>\n",
       "</tr>\n",
       "<tr>\n",
       "  <th>x29</th> <td>-1.735e+05</td> <td> 1.25e+04</td> <td>  -13.890</td> <td> 0.000</td> <td>-1.98e+05</td> <td>-1.49e+05</td>\n",
       "</tr>\n",
       "<tr>\n",
       "  <th>x30</th> <td>-1.155e+05</td> <td> 9860.185</td> <td>  -11.713</td> <td> 0.000</td> <td>-1.35e+05</td> <td>-9.62e+04</td>\n",
       "</tr>\n",
       "<tr>\n",
       "  <th>x31</th> <td>-1.326e+05</td> <td> 1.01e+04</td> <td>  -13.074</td> <td> 0.000</td> <td>-1.52e+05</td> <td>-1.13e+05</td>\n",
       "</tr>\n",
       "<tr>\n",
       "  <th>x32</th> <td>  828.6381</td> <td> 2923.114</td> <td>    0.283</td> <td> 0.777</td> <td>-4901.071</td> <td> 6558.347</td>\n",
       "</tr>\n",
       "<tr>\n",
       "  <th>x33</th> <td> -6.46e+04</td> <td> 3202.536</td> <td>  -20.172</td> <td> 0.000</td> <td>-7.09e+04</td> <td>-5.83e+04</td>\n",
       "</tr>\n",
       "</table>\n",
       "<table class=\"simpletable\">\n",
       "<tr>\n",
       "  <th>Omnibus:</th>       <td>10025.466</td> <th>  Durbin-Watson:     </th>  <td>   1.346</td> \n",
       "</tr>\n",
       "<tr>\n",
       "  <th>Prob(Omnibus):</th>  <td> 0.000</td>   <th>  Jarque-Bera (JB):  </th> <td>440804.781</td>\n",
       "</tr>\n",
       "<tr>\n",
       "  <th>Skew:</th>           <td> 3.076</td>   <th>  Prob(JB):          </th>  <td>    0.00</td> \n",
       "</tr>\n",
       "<tr>\n",
       "  <th>Kurtosis:</th>       <td>30.185</td>   <th>  Cond. No.          </th>  <td>7.81e+03</td> \n",
       "</tr>\n",
       "</table><br/><br/>Notes:<br/>[1] Standard Errors assume that the covariance matrix of the errors is correctly specified.<br/>[2] The condition number is large, 7.81e+03. This might indicate that there are<br/>strong multicollinearity or other numerical problems."
      ],
      "text/plain": [
       "<class 'statsmodels.iolib.summary.Summary'>\n",
       "\"\"\"\n",
       "                            OLS Regression Results                            \n",
       "==============================================================================\n",
       "Dep. Variable:                      y   R-squared:                       0.546\n",
       "Model:                            OLS   Adj. R-squared:                  0.545\n",
       "Method:                 Least Squares   F-statistic:                     510.9\n",
       "Date:                Wed, 16 Feb 2022   Prob (F-statistic):               0.00\n",
       "Time:                        09:27:00   Log-Likelihood:            -1.7922e+05\n",
       "No. Observations:               13618   AIC:                         3.585e+05\n",
       "Df Residuals:                   13585   BIC:                         3.588e+05\n",
       "Df Model:                          32                                         \n",
       "Covariance Type:            nonrobust                                         \n",
       "==============================================================================\n",
       "                 coef    std err          t      P>|t|      [0.025      0.975]\n",
       "------------------------------------------------------------------------------\n",
       "x1           301.0476   1584.117      0.190      0.849   -2804.041    3406.136\n",
       "x2          1432.3837     36.439     39.309      0.000    1360.958    1503.810\n",
       "x3          1.803e+04   2108.061      8.551      0.000    1.39e+04    2.22e+04\n",
       "x4          6.971e+04   2971.125     23.462      0.000    6.39e+04    7.55e+04\n",
       "x5           3.67e+04   2223.822     16.502      0.000    3.23e+04    4.11e+04\n",
       "x6         -2.704e+04   7359.160     -3.674      0.000   -4.15e+04   -1.26e+04\n",
       "x7          1.976e+04   1163.748     16.980      0.000    1.75e+04     2.2e+04\n",
       "x8           416.8762    278.649      1.496      0.135    -129.314     963.066\n",
       "x9          3.192e+04   7285.470      4.381      0.000    1.76e+04    4.62e+04\n",
       "x10          606.6952    116.835      5.193      0.000     377.683     835.708\n",
       "x11        -2186.6172   2721.779     -0.803      0.422   -7521.682    3148.448\n",
       "x12           13.7420    391.570      0.035      0.972    -753.790     781.274\n",
       "x13         1.214e+04   4730.431      2.567      0.010    2872.634    2.14e+04\n",
       "x14         1.938e+04   1634.551     11.854      0.000    1.62e+04    2.26e+04\n",
       "x15          269.0492     35.073      7.671      0.000     200.302     337.797\n",
       "x16         3.912e+04   5331.902      7.336      0.000    2.87e+04    4.96e+04\n",
       "x17         2.253e+04   4479.253      5.029      0.000    1.37e+04    3.13e+04\n",
       "x18        -6537.3786   6463.903     -1.011      0.312   -1.92e+04    6132.767\n",
       "x19           23.4965      4.649      5.055      0.000      14.385      32.608\n",
       "x20         1.235e+04   2473.007      4.992      0.000    7497.941    1.72e+04\n",
       "x21        -5.954e+04   9867.559     -6.034      0.000   -7.89e+04   -4.02e+04\n",
       "x22        -8.999e+04   1.15e+04     -7.795      0.000   -1.13e+05   -6.74e+04\n",
       "x23        -8.694e+04   9999.753     -8.694      0.000   -1.07e+05   -6.73e+04\n",
       "x24        -1.042e+05   9781.007    -10.654      0.000   -1.23e+05    -8.5e+04\n",
       "x25         -1.54e+05   1.05e+04    -14.709      0.000   -1.75e+05   -1.33e+05\n",
       "x26        -1.877e+05   1.02e+04    -18.351      0.000   -2.08e+05   -1.68e+05\n",
       "x27        -1.762e+05   1.31e+04    -13.463      0.000   -2.02e+05   -1.51e+05\n",
       "x28        -2.191e+05   9919.366    -22.092      0.000   -2.39e+05      -2e+05\n",
       "x29        -1.735e+05   1.25e+04    -13.890      0.000   -1.98e+05   -1.49e+05\n",
       "x30        -1.155e+05   9860.185    -11.713      0.000   -1.35e+05   -9.62e+04\n",
       "x31        -1.326e+05   1.01e+04    -13.074      0.000   -1.52e+05   -1.13e+05\n",
       "x32          828.6381   2923.114      0.283      0.777   -4901.071    6558.347\n",
       "x33         -6.46e+04   3202.536    -20.172      0.000   -7.09e+04   -5.83e+04\n",
       "==============================================================================\n",
       "Omnibus:                    10025.466   Durbin-Watson:                   1.346\n",
       "Prob(Omnibus):                  0.000   Jarque-Bera (JB):           440804.781\n",
       "Skew:                           3.076   Prob(JB):                         0.00\n",
       "Kurtosis:                      30.185   Cond. No.                     7.81e+03\n",
       "==============================================================================\n",
       "\n",
       "Notes:\n",
       "[1] Standard Errors assume that the covariance matrix of the errors is correctly specified.\n",
       "[2] The condition number is large, 7.81e+03. This might indicate that there are\n",
       "strong multicollinearity or other numerical problems.\n",
       "\"\"\""
      ]
     },
     "execution_count": 24,
     "metadata": {},
     "output_type": "execute_result"
    }
   ],
   "source": [
    "olsmod = sm.OLS(y,X).fit()\n",
    "olsmod.summary()"
   ]
  },
  {
   "cell_type": "markdown",
   "id": "b727c99c",
   "metadata": {},
   "source": [
    "***We are seeing that some of the variable are not significatifs because their p-value is > 0.05.***"
   ]
  },
  {
   "cell_type": "code",
   "execution_count": 25,
   "id": "d8ecd531",
   "metadata": {
    "scrolled": true
   },
   "outputs": [
    {
     "data": {
      "text/plain": [
       "['Number of bedrooms',\n",
       " 'Surface bedroom 1',\n",
       " 'Cellar',\n",
       " 'Surface kitchen',\n",
       " 'Sewer Connection',\n",
       " 'Orientation South']"
      ]
     },
     "execution_count": 25,
     "metadata": {},
     "output_type": "execute_result"
    }
   ],
   "source": [
    "list_col = list(df.drop(columns=[\"Price\"]))\n",
    "index_remove = [0,7,10,11,17,31]\n",
    "columns_removed = []\n",
    "for x in index_remove:\n",
    "    columns_removed.append(list_col[x])\n",
    "columns_removed"
   ]
  },
  {
   "cell_type": "code",
   "execution_count": 26,
   "id": "6d88f62d",
   "metadata": {
    "scrolled": true
   },
   "outputs": [
    {
     "data": {
      "text/plain": [
       "6"
      ]
     },
     "execution_count": 26,
     "metadata": {},
     "output_type": "execute_result"
    }
   ],
   "source": [
    "len(columns_removed)"
   ]
  },
  {
   "cell_type": "markdown",
   "id": "d5a35e7b",
   "metadata": {},
   "source": [
    "We are creating a new dataframe without the variables with a p-value > 0.05"
   ]
  },
  {
   "cell_type": "code",
   "execution_count": 27,
   "id": "2c249365",
   "metadata": {},
   "outputs": [
    {
     "data": {
      "text/plain": [
       "(13618, 28)"
      ]
     },
     "execution_count": 27,
     "metadata": {},
     "output_type": "execute_result"
    }
   ],
   "source": [
    "df_all_res = df.drop(columns=columns_removed)\n",
    "df_all_res.shape"
   ]
  },
  {
   "cell_type": "markdown",
   "id": "3a5775f0",
   "metadata": {},
   "source": [
    "### 4. Multiplie linear regressions for variables p-value > 0.05\n",
    "\n",
    "Number of independant variable : **27**"
   ]
  },
  {
   "cell_type": "code",
   "execution_count": 28,
   "id": "8d984166",
   "metadata": {},
   "outputs": [
    {
     "name": "stdout",
     "output_type": "stream",
     "text": [
      "(13618, 27)\n",
      "(13618, 1)\n"
     ]
    }
   ],
   "source": [
    "X = df_all_res.drop(columns=['Price']).to_numpy()\n",
    "y = df_all_res[\"Price\"].to_numpy()\n",
    "y = y.reshape(-1,1)\n",
    "print(X.shape)\n",
    "print(y.shape)"
   ]
  },
  {
   "cell_type": "code",
   "execution_count": 29,
   "id": "a9540207",
   "metadata": {},
   "outputs": [],
   "source": [
    "X_train, X_test, y_train, y_test = train_test_split(X,y, test_size=0.2)"
   ]
  },
  {
   "cell_type": "code",
   "execution_count": 30,
   "id": "e79c47b0",
   "metadata": {},
   "outputs": [
    {
     "data": {
      "text/plain": [
       "0.5420919389514158"
      ]
     },
     "execution_count": 30,
     "metadata": {},
     "output_type": "execute_result"
    }
   ],
   "source": [
    "regr = LinearRegression()\n",
    "regr.fit(X_train, y_train)\n",
    "y_pred = regr.predict(X_test)\n",
    "regr.score(X_test, y_test)"
   ]
  },
  {
   "cell_type": "code",
   "execution_count": 31,
   "id": "093c255b",
   "metadata": {},
   "outputs": [
    {
     "data": {
      "text/plain": [
       "136546.86450483496"
      ]
     },
     "execution_count": 31,
     "metadata": {},
     "output_type": "execute_result"
    }
   ],
   "source": [
    "mse = mean_squared_error(y_test, y_pred)\n",
    "np.sqrt(mse)"
   ]
  },
  {
   "cell_type": "code",
   "execution_count": 32,
   "id": "f84e7632",
   "metadata": {},
   "outputs": [
    {
     "data": {
      "text/html": [
       "<table class=\"simpletable\">\n",
       "<caption>OLS Regression Results</caption>\n",
       "<tr>\n",
       "  <th>Dep. Variable:</th>            <td>y</td>        <th>  R-squared:         </th>  <td>   0.546</td>  \n",
       "</tr>\n",
       "<tr>\n",
       "  <th>Model:</th>                   <td>OLS</td>       <th>  Adj. R-squared:    </th>  <td>   0.545</td>  \n",
       "</tr>\n",
       "<tr>\n",
       "  <th>Method:</th>             <td>Least Squares</td>  <th>  F-statistic:       </th>  <td>   628.7</td>  \n",
       "</tr>\n",
       "<tr>\n",
       "  <th>Date:</th>             <td>Wed, 16 Feb 2022</td> <th>  Prob (F-statistic):</th>   <td>  0.00</td>   \n",
       "</tr>\n",
       "<tr>\n",
       "  <th>Time:</th>                 <td>09:27:00</td>     <th>  Log-Likelihood:    </th> <td>-1.7922e+05</td>\n",
       "</tr>\n",
       "<tr>\n",
       "  <th>No. Observations:</th>      <td> 13618</td>      <th>  AIC:               </th>  <td>3.585e+05</td> \n",
       "</tr>\n",
       "<tr>\n",
       "  <th>Df Residuals:</th>          <td> 13591</td>      <th>  BIC:               </th>  <td>3.587e+05</td> \n",
       "</tr>\n",
       "<tr>\n",
       "  <th>Df Model:</th>              <td>    26</td>      <th>                     </th>      <td> </td>     \n",
       "</tr>\n",
       "<tr>\n",
       "  <th>Covariance Type:</th>      <td>nonrobust</td>    <th>                     </th>      <td> </td>     \n",
       "</tr>\n",
       "</table>\n",
       "<table class=\"simpletable\">\n",
       "<tr>\n",
       "   <td></td>      <th>coef</th>     <th>std err</th>      <th>t</th>      <th>P>|t|</th>  <th>[0.025</th>    <th>0.975]</th>  \n",
       "</tr>\n",
       "<tr>\n",
       "  <th>x1</th>  <td> 1450.4047</td> <td>   30.560</td> <td>   47.461</td> <td> 0.000</td> <td> 1390.503</td> <td> 1510.307</td>\n",
       "</tr>\n",
       "<tr>\n",
       "  <th>x2</th>  <td> 1.823e+04</td> <td> 2104.319</td> <td>    8.664</td> <td> 0.000</td> <td> 1.41e+04</td> <td> 2.24e+04</td>\n",
       "</tr>\n",
       "<tr>\n",
       "  <th>x3</th>  <td> 6.963e+04</td> <td> 2936.411</td> <td>   23.713</td> <td> 0.000</td> <td> 6.39e+04</td> <td> 7.54e+04</td>\n",
       "</tr>\n",
       "<tr>\n",
       "  <th>x4</th>  <td> 3.678e+04</td> <td> 2218.020</td> <td>   16.584</td> <td> 0.000</td> <td> 3.24e+04</td> <td> 4.11e+04</td>\n",
       "</tr>\n",
       "<tr>\n",
       "  <th>x5</th>  <td>-2.812e+04</td> <td> 7333.390</td> <td>   -3.834</td> <td> 0.000</td> <td>-4.25e+04</td> <td>-1.37e+04</td>\n",
       "</tr>\n",
       "<tr>\n",
       "  <th>x6</th>  <td> 1.978e+04</td> <td> 1159.129</td> <td>   17.066</td> <td> 0.000</td> <td> 1.75e+04</td> <td> 2.21e+04</td>\n",
       "</tr>\n",
       "<tr>\n",
       "  <th>x7</th>  <td>  3.15e+04</td> <td> 7278.507</td> <td>    4.327</td> <td> 0.000</td> <td> 1.72e+04</td> <td> 4.58e+04</td>\n",
       "</tr>\n",
       "<tr>\n",
       "  <th>x8</th>  <td>  693.7211</td> <td>  101.105</td> <td>    6.861</td> <td> 0.000</td> <td>  495.541</td> <td>  891.902</td>\n",
       "</tr>\n",
       "<tr>\n",
       "  <th>x9</th>  <td> 1.155e+04</td> <td> 4712.090</td> <td>    2.451</td> <td> 0.014</td> <td> 2314.370</td> <td> 2.08e+04</td>\n",
       "</tr>\n",
       "<tr>\n",
       "  <th>x10</th> <td> 1.938e+04</td> <td> 1625.206</td> <td>   11.927</td> <td> 0.000</td> <td> 1.62e+04</td> <td> 2.26e+04</td>\n",
       "</tr>\n",
       "<tr>\n",
       "  <th>x11</th> <td>  268.7086</td> <td>   35.051</td> <td>    7.666</td> <td> 0.000</td> <td>  200.003</td> <td>  337.414</td>\n",
       "</tr>\n",
       "<tr>\n",
       "  <th>x12</th> <td> 3.835e+04</td> <td> 5272.869</td> <td>    7.273</td> <td> 0.000</td> <td>  2.8e+04</td> <td> 4.87e+04</td>\n",
       "</tr>\n",
       "<tr>\n",
       "  <th>x13</th> <td> 2.183e+04</td> <td> 4435.477</td> <td>    4.921</td> <td> 0.000</td> <td> 1.31e+04</td> <td> 3.05e+04</td>\n",
       "</tr>\n",
       "<tr>\n",
       "  <th>x14</th> <td>   23.0671</td> <td>    4.633</td> <td>    4.979</td> <td> 0.000</td> <td>   13.986</td> <td>   32.149</td>\n",
       "</tr>\n",
       "<tr>\n",
       "  <th>x15</th> <td> 1.211e+04</td> <td> 2464.143</td> <td>    4.915</td> <td> 0.000</td> <td> 7280.000</td> <td> 1.69e+04</td>\n",
       "</tr>\n",
       "<tr>\n",
       "  <th>x16</th> <td>-6.403e+04</td> <td> 7300.022</td> <td>   -8.771</td> <td> 0.000</td> <td>-7.83e+04</td> <td>-4.97e+04</td>\n",
       "</tr>\n",
       "<tr>\n",
       "  <th>x17</th> <td>-9.461e+04</td> <td> 9424.404</td> <td>  -10.039</td> <td> 0.000</td> <td>-1.13e+05</td> <td>-7.61e+04</td>\n",
       "</tr>\n",
       "<tr>\n",
       "  <th>x18</th> <td>-9.109e+04</td> <td> 7771.310</td> <td>  -11.721</td> <td> 0.000</td> <td>-1.06e+05</td> <td>-7.59e+04</td>\n",
       "</tr>\n",
       "<tr>\n",
       "  <th>x19</th> <td>-1.082e+05</td> <td> 7208.181</td> <td>  -15.004</td> <td> 0.000</td> <td>-1.22e+05</td> <td> -9.4e+04</td>\n",
       "</tr>\n",
       "<tr>\n",
       "  <th>x20</th> <td>-1.575e+05</td> <td> 8289.744</td> <td>  -19.001</td> <td> 0.000</td> <td>-1.74e+05</td> <td>-1.41e+05</td>\n",
       "</tr>\n",
       "<tr>\n",
       "  <th>x21</th> <td>-1.921e+05</td> <td> 7831.260</td> <td>  -24.534</td> <td> 0.000</td> <td>-2.07e+05</td> <td>-1.77e+05</td>\n",
       "</tr>\n",
       "<tr>\n",
       "  <th>x22</th> <td>-1.807e+05</td> <td> 1.13e+04</td> <td>  -16.053</td> <td> 0.000</td> <td>-2.03e+05</td> <td>-1.59e+05</td>\n",
       "</tr>\n",
       "<tr>\n",
       "  <th>x23</th> <td>-2.236e+05</td> <td> 7378.871</td> <td>  -30.305</td> <td> 0.000</td> <td>-2.38e+05</td> <td>-2.09e+05</td>\n",
       "</tr>\n",
       "<tr>\n",
       "  <th>x24</th> <td>-1.774e+05</td> <td> 1.08e+04</td> <td>  -16.461</td> <td> 0.000</td> <td>-1.99e+05</td> <td>-1.56e+05</td>\n",
       "</tr>\n",
       "<tr>\n",
       "  <th>x25</th> <td>-1.196e+05</td> <td> 7296.315</td> <td>  -16.390</td> <td> 0.000</td> <td>-1.34e+05</td> <td>-1.05e+05</td>\n",
       "</tr>\n",
       "<tr>\n",
       "  <th>x26</th> <td>-1.366e+05</td> <td> 7828.429</td> <td>  -17.455</td> <td> 0.000</td> <td>-1.52e+05</td> <td>-1.21e+05</td>\n",
       "</tr>\n",
       "<tr>\n",
       "  <th>x27</th> <td>-6.356e+04</td> <td> 3016.555</td> <td>  -21.070</td> <td> 0.000</td> <td>-6.95e+04</td> <td>-5.76e+04</td>\n",
       "</tr>\n",
       "</table>\n",
       "<table class=\"simpletable\">\n",
       "<tr>\n",
       "  <th>Omnibus:</th>       <td>9997.404</td> <th>  Durbin-Watson:     </th>  <td>   1.346</td> \n",
       "</tr>\n",
       "<tr>\n",
       "  <th>Prob(Omnibus):</th>  <td> 0.000</td>  <th>  Jarque-Bera (JB):  </th> <td>436391.539</td>\n",
       "</tr>\n",
       "<tr>\n",
       "  <th>Skew:</th>           <td> 3.065</td>  <th>  Prob(JB):          </th>  <td>    0.00</td> \n",
       "</tr>\n",
       "<tr>\n",
       "  <th>Kurtosis:</th>       <td>30.046</td>  <th>  Cond. No.          </th>  <td>5.70e+03</td> \n",
       "</tr>\n",
       "</table><br/><br/>Notes:<br/>[1] Standard Errors assume that the covariance matrix of the errors is correctly specified.<br/>[2] The condition number is large, 5.7e+03. This might indicate that there are<br/>strong multicollinearity or other numerical problems."
      ],
      "text/plain": [
       "<class 'statsmodels.iolib.summary.Summary'>\n",
       "\"\"\"\n",
       "                            OLS Regression Results                            \n",
       "==============================================================================\n",
       "Dep. Variable:                      y   R-squared:                       0.546\n",
       "Model:                            OLS   Adj. R-squared:                  0.545\n",
       "Method:                 Least Squares   F-statistic:                     628.7\n",
       "Date:                Wed, 16 Feb 2022   Prob (F-statistic):               0.00\n",
       "Time:                        09:27:00   Log-Likelihood:            -1.7922e+05\n",
       "No. Observations:               13618   AIC:                         3.585e+05\n",
       "Df Residuals:                   13591   BIC:                         3.587e+05\n",
       "Df Model:                          26                                         \n",
       "Covariance Type:            nonrobust                                         \n",
       "==============================================================================\n",
       "                 coef    std err          t      P>|t|      [0.025      0.975]\n",
       "------------------------------------------------------------------------------\n",
       "x1          1450.4047     30.560     47.461      0.000    1390.503    1510.307\n",
       "x2          1.823e+04   2104.319      8.664      0.000    1.41e+04    2.24e+04\n",
       "x3          6.963e+04   2936.411     23.713      0.000    6.39e+04    7.54e+04\n",
       "x4          3.678e+04   2218.020     16.584      0.000    3.24e+04    4.11e+04\n",
       "x5         -2.812e+04   7333.390     -3.834      0.000   -4.25e+04   -1.37e+04\n",
       "x6          1.978e+04   1159.129     17.066      0.000    1.75e+04    2.21e+04\n",
       "x7           3.15e+04   7278.507      4.327      0.000    1.72e+04    4.58e+04\n",
       "x8           693.7211    101.105      6.861      0.000     495.541     891.902\n",
       "x9          1.155e+04   4712.090      2.451      0.014    2314.370    2.08e+04\n",
       "x10         1.938e+04   1625.206     11.927      0.000    1.62e+04    2.26e+04\n",
       "x11          268.7086     35.051      7.666      0.000     200.003     337.414\n",
       "x12         3.835e+04   5272.869      7.273      0.000     2.8e+04    4.87e+04\n",
       "x13         2.183e+04   4435.477      4.921      0.000    1.31e+04    3.05e+04\n",
       "x14           23.0671      4.633      4.979      0.000      13.986      32.149\n",
       "x15         1.211e+04   2464.143      4.915      0.000    7280.000    1.69e+04\n",
       "x16        -6.403e+04   7300.022     -8.771      0.000   -7.83e+04   -4.97e+04\n",
       "x17        -9.461e+04   9424.404    -10.039      0.000   -1.13e+05   -7.61e+04\n",
       "x18        -9.109e+04   7771.310    -11.721      0.000   -1.06e+05   -7.59e+04\n",
       "x19        -1.082e+05   7208.181    -15.004      0.000   -1.22e+05    -9.4e+04\n",
       "x20        -1.575e+05   8289.744    -19.001      0.000   -1.74e+05   -1.41e+05\n",
       "x21        -1.921e+05   7831.260    -24.534      0.000   -2.07e+05   -1.77e+05\n",
       "x22        -1.807e+05   1.13e+04    -16.053      0.000   -2.03e+05   -1.59e+05\n",
       "x23        -2.236e+05   7378.871    -30.305      0.000   -2.38e+05   -2.09e+05\n",
       "x24        -1.774e+05   1.08e+04    -16.461      0.000   -1.99e+05   -1.56e+05\n",
       "x25        -1.196e+05   7296.315    -16.390      0.000   -1.34e+05   -1.05e+05\n",
       "x26        -1.366e+05   7828.429    -17.455      0.000   -1.52e+05   -1.21e+05\n",
       "x27        -6.356e+04   3016.555    -21.070      0.000   -6.95e+04   -5.76e+04\n",
       "==============================================================================\n",
       "Omnibus:                     9997.404   Durbin-Watson:                   1.346\n",
       "Prob(Omnibus):                  0.000   Jarque-Bera (JB):           436391.539\n",
       "Skew:                           3.065   Prob(JB):                         0.00\n",
       "Kurtosis:                      30.046   Cond. No.                     5.70e+03\n",
       "==============================================================================\n",
       "\n",
       "Notes:\n",
       "[1] Standard Errors assume that the covariance matrix of the errors is correctly specified.\n",
       "[2] The condition number is large, 5.7e+03. This might indicate that there are\n",
       "strong multicollinearity or other numerical problems.\n",
       "\"\"\""
      ]
     },
     "execution_count": 32,
     "metadata": {},
     "output_type": "execute_result"
    }
   ],
   "source": [
    "olsmod = sm.OLS(y,X).fit()\n",
    "olsmod.summary()"
   ]
  },
  {
   "cell_type": "markdown",
   "id": "e14f5bd2",
   "metadata": {},
   "source": [
    "## E. Polynominal regression"
   ]
  },
  {
   "cell_type": "markdown",
   "id": "c00b2130",
   "metadata": {},
   "source": [
    "### 1. Polynominal simple regression"
   ]
  },
  {
   "cell_type": "code",
   "execution_count": 33,
   "id": "742c7806",
   "metadata": {},
   "outputs": [],
   "source": [
    "degree = 3"
   ]
  },
  {
   "cell_type": "code",
   "execution_count": 34,
   "id": "6353389a",
   "metadata": {},
   "outputs": [
    {
     "name": "stdout",
     "output_type": "stream",
     "text": [
      "(13618, 1)\n",
      "(13618, 1)\n"
     ]
    }
   ],
   "source": [
    "X = df[\"Livable surface\"].to_numpy()\n",
    "X = X.reshape(-1,1)\n",
    "y = df[\"Price\"].to_numpy()\n",
    "y = y.reshape(-1,1)\n",
    "print(X.shape)\n",
    "print(y.shape)"
   ]
  },
  {
   "cell_type": "code",
   "execution_count": 35,
   "id": "184a04c8",
   "metadata": {},
   "outputs": [],
   "source": [
    "X_train, X_test, y_train, y_test = train_test_split(X,y, test_size=0.2)"
   ]
  },
  {
   "cell_type": "code",
   "execution_count": 36,
   "id": "a4e3c7e8",
   "metadata": {},
   "outputs": [],
   "source": [
    "polyreg=make_pipeline(\n",
    "    PolynomialFeatures(degree),\n",
    "    LinearRegression(),\n",
    ")"
   ]
  },
  {
   "cell_type": "code",
   "execution_count": 37,
   "id": "35d85952",
   "metadata": {},
   "outputs": [
    {
     "data": {
      "text/plain": [
       "0.34476808988207575"
      ]
     },
     "execution_count": 37,
     "metadata": {},
     "output_type": "execute_result"
    }
   ],
   "source": [
    "polyreg.fit(X,y)\n",
    "polyreg.score(X_test, y_test)"
   ]
  },
  {
   "cell_type": "code",
   "execution_count": 38,
   "id": "6ace4eb4",
   "metadata": {
    "scrolled": true
   },
   "outputs": [
    {
     "data": {
      "image/png": "[encoded data removed]",
      "text/plain": [
       "<Figure size 432x288 with 1 Axes>"
      ]
     },
     "metadata": {
      "needs_background": "light"
     },
     "output_type": "display_data"
    }
   ],
   "source": [
    "plt.scatter(X_train, y_train, color=\"lightGray\", s=10)\n",
    "plt.plot(X_train, polyreg.predict(X_train), color='gray')\n",
    "plt.xlabel(\"Livable surface (m²)\")\n",
    "plt.ylabel(\"Price (m€)\")\n",
    "plt.title(\"Price vs Livable surface (Trainning set)\", pad=20)\n",
    "plt.show()"
   ]
  },
  {
   "cell_type": "markdown",
   "id": "0eefcd90",
   "metadata": {},
   "source": [
    "### 2. Polynomial multiple regression (degree = 2)"
   ]
  },
  {
   "cell_type": "code",
   "execution_count": 94,
   "id": "47610960",
   "metadata": {},
   "outputs": [],
   "source": [
    "degree = 2"
   ]
  },
  {
   "cell_type": "code",
   "execution_count": 95,
   "id": "42e88b85",
   "metadata": {},
   "outputs": [
    {
     "name": "stdout",
     "output_type": "stream",
     "text": [
      "(13618, 27)\n",
      "(13618, 1)\n"
     ]
    }
   ],
   "source": [
    "X = df_all_res.drop(columns=['Price']).to_numpy()\n",
    "y = df_all_res[\"Price\"].to_numpy()\n",
    "y = y.reshape(-1,1)\n",
    "print(X.shape)\n",
    "print(y.shape)"
   ]
  },
  {
   "cell_type": "code",
   "execution_count": 96,
   "id": "856d0c37",
   "metadata": {},
   "outputs": [],
   "source": [
    "X_train, X_test, y_train, y_test = train_test_split(X, y, test_size = 0.2, random_state = 42)"
   ]
  },
  {
   "cell_type": "code",
   "execution_count": 97,
   "id": "3f81ae8e",
   "metadata": {},
   "outputs": [
    {
     "data": {
      "text/plain": [
       "0.6305658355970445"
      ]
     },
     "execution_count": 97,
     "metadata": {},
     "output_type": "execute_result"
    }
   ],
   "source": [
    "polyreg=make_pipeline(PolynomialFeatures(degree),LinearRegression(),)\n",
    "polyreg.fit(X,y)\n",
    "y_pred = polyreg.predict(X_test)\n",
    "polyreg.score(X_test, y_test)"
   ]
  },
  {
   "cell_type": "code",
   "execution_count": 98,
   "id": "0fe0e382",
   "metadata": {},
   "outputs": [
    {
     "data": {
      "text/plain": [
       "0.6806563429873785"
      ]
     },
     "execution_count": 98,
     "metadata": {},
     "output_type": "execute_result"
    }
   ],
   "source": [
    "polyreg.score(X_train, y_train)"
   ]
  },
  {
   "cell_type": "code",
   "execution_count": 43,
   "id": "da1db48b",
   "metadata": {},
   "outputs": [
    {
     "data": {
      "text/plain": [
       "106573.401978051"
      ]
     },
     "execution_count": 43,
     "metadata": {},
     "output_type": "execute_result"
    }
   ],
   "source": [
    "mse = mean_squared_error(y_test, y_pred)\n",
    "np.sqrt(mse)"
   ]
  },
  {
   "cell_type": "markdown",
   "id": "6ae0fd6a",
   "metadata": {},
   "source": [
    "### 3. Polynomial multiple regression (degree = 3)"
   ]
  },
  {
   "cell_type": "code",
   "execution_count": 99,
   "id": "0907a342",
   "metadata": {},
   "outputs": [],
   "source": [
    "degree = 3"
   ]
  },
  {
   "cell_type": "code",
   "execution_count": 100,
   "id": "76f5a4fc",
   "metadata": {},
   "outputs": [
    {
     "name": "stdout",
     "output_type": "stream",
     "text": [
      "(13618, 27)\n",
      "(13618, 1)\n"
     ]
    }
   ],
   "source": [
    "X = df_all_res.drop(columns=['Price']).to_numpy()\n",
    "y = df_all_res[\"Price\"].to_numpy()\n",
    "y = y.reshape(-1,1)\n",
    "print(X.shape)\n",
    "print(y.shape)"
   ]
  },
  {
   "cell_type": "code",
   "execution_count": 101,
   "id": "695e9582",
   "metadata": {},
   "outputs": [],
   "source": [
    "X_train, X_test, y_train, y_test = train_test_split(X, y, test_size = 0.2, random_state = 42)"
   ]
  },
  {
   "cell_type": "code",
   "execution_count": 102,
   "id": "38cd2640",
   "metadata": {},
   "outputs": [
    {
     "data": {
      "text/plain": [
       "0.7544429172906542"
      ]
     },
     "execution_count": 102,
     "metadata": {},
     "output_type": "execute_result"
    }
   ],
   "source": [
    "polyreg=make_pipeline(PolynomialFeatures(degree),LinearRegression(),)\n",
    "polyreg.fit(X,y)\n",
    "y_pred = polyreg.predict(X_test)\n",
    "polyreg.score(X_test, y_test)"
   ]
  },
  {
   "cell_type": "code",
   "execution_count": 103,
   "id": "c71e8947",
   "metadata": {},
   "outputs": [
    {
     "data": {
      "text/plain": [
       "0.7944925573302413"
      ]
     },
     "execution_count": 103,
     "metadata": {},
     "output_type": "execute_result"
    }
   ],
   "source": [
    "polyreg.score(X_train, y_train)"
   ]
  },
  {
   "cell_type": "code",
   "execution_count": 105,
   "id": "4244a4f5",
   "metadata": {},
   "outputs": [
    {
     "data": {
      "text/plain": [
       "86887.34647798745"
      ]
     },
     "execution_count": 105,
     "metadata": {},
     "output_type": "execute_result"
    }
   ],
   "source": [
    "mse = mean_squared_error(y_test, y_pred)\n",
    "np.sqrt(mse)"
   ]
  },
  {
   "cell_type": "markdown",
   "id": "e00025bf",
   "metadata": {},
   "source": [
    "### 4. Polynominal multiple regression (degree = 4)"
   ]
  },
  {
   "cell_type": "code",
   "execution_count": 49,
   "id": "2e568657",
   "metadata": {},
   "outputs": [],
   "source": [
    "degree = 4"
   ]
  },
  {
   "cell_type": "code",
   "execution_count": 50,
   "id": "b5d48415",
   "metadata": {},
   "outputs": [
    {
     "name": "stdout",
     "output_type": "stream",
     "text": [
      "(13618, 27)\n",
      "(13618, 1)\n"
     ]
    }
   ],
   "source": [
    "X = df_all_res.drop(columns=['Price']).to_numpy()\n",
    "y = df_all_res[\"Price\"].to_numpy()\n",
    "y = y.reshape(-1,1)\n",
    "print(X.shape)\n",
    "print(y.shape)"
   ]
  },
  {
   "cell_type": "code",
   "execution_count": 51,
   "id": "cd49ad45",
   "metadata": {},
   "outputs": [],
   "source": [
    "X_train, X_test, y_train, y_test = train_test_split(X, y, test_size = 0.2, random_state = 42)"
   ]
  },
  {
   "cell_type": "code",
   "execution_count": 52,
   "id": "0b2de6d1",
   "metadata": {},
   "outputs": [],
   "source": [
    "# polyreg=make_pipeline(PolynomialFeatures(degree),LinearRegression(),)\n",
    "# polyreg.fit(X,y)\n",
    "# y_pred = polyreg.predict(X_test)\n",
    "# polyreg.score(X_test, y_test)"
   ]
  },
  {
   "cell_type": "code",
   "execution_count": 53,
   "id": "f25056ee",
   "metadata": {
    "scrolled": true
   },
   "outputs": [
    {
     "data": {
      "text/plain": [
       "86887.34647798745"
      ]
     },
     "execution_count": 53,
     "metadata": {},
     "output_type": "execute_result"
    }
   ],
   "source": [
    "mse = mean_squared_error(y_test, y_pred)\n",
    "np.sqrt(mse)"
   ]
  },
  {
   "cell_type": "markdown",
   "id": "42c58380",
   "metadata": {},
   "source": [
    "## F. Creating an histogram "
   ]
  },
  {
   "cell_type": "code",
   "execution_count": 54,
   "id": "3d7bddd5",
   "metadata": {},
   "outputs": [
    {
     "data": {
      "text/html": [
       "<div>\n",
       "<style scoped>\n",
       "    .dataframe tbody tr th:only-of-type {\n",
       "        vertical-align: middle;\n",
       "    }\n",
       "\n",
       "    .dataframe tbody tr th {\n",
       "        vertical-align: top;\n",
       "    }\n",
       "\n",
       "    .dataframe thead th {\n",
       "        text-align: right;\n",
       "    }\n",
       "</style>\n",
       "<table border=\"1\" class=\"dataframe\">\n",
       "  <thead>\n",
       "    <tr style=\"text-align: right;\">\n",
       "      <th></th>\n",
       "      <th>Degree</th>\n",
       "      <th>Rsqr</th>\n",
       "      <th>Error</th>\n",
       "    </tr>\n",
       "  </thead>\n",
       "  <tbody>\n",
       "    <tr>\n",
       "      <th>0</th>\n",
       "      <td>1</td>\n",
       "      <td>0.52</td>\n",
       "      <td>235726</td>\n",
       "    </tr>\n",
       "    <tr>\n",
       "      <th>1</th>\n",
       "      <td>2</td>\n",
       "      <td>0.63</td>\n",
       "      <td>106571</td>\n",
       "    </tr>\n",
       "    <tr>\n",
       "      <th>2</th>\n",
       "      <td>3</td>\n",
       "      <td>0.75</td>\n",
       "      <td>86887</td>\n",
       "    </tr>\n",
       "    <tr>\n",
       "      <th>3</th>\n",
       "      <td>4</td>\n",
       "      <td>0.89</td>\n",
       "      <td>72408</td>\n",
       "    </tr>\n",
       "  </tbody>\n",
       "</table>\n",
       "</div>"
      ],
      "text/plain": [
       "  Degree  Rsqr   Error\n",
       "0      1  0.52  235726\n",
       "1      2  0.63  106571\n",
       "2      3  0.75   86887\n",
       "3      4  0.89   72408"
      ]
     },
     "execution_count": 54,
     "metadata": {},
     "output_type": "execute_result"
    }
   ],
   "source": [
    "deg = [\"1\",\"2\",\"3\",\"4\"]\n",
    "r = [0.52,0.68,0.79,0.89]\n",
    "error = [235726,106571,86887, 72408]\n",
    "\n",
    "df_tab = pd.DataFrame(list(zip(deg, r, error)), columns=[\"Degree\", \"Rsqr\", \"Error\"])\n",
    "df_tab"
   ]
  },
  {
   "cell_type": "code",
   "execution_count": 104,
   "id": "c0b17abc",
   "metadata": {
    "scrolled": false
   },
   "outputs": [
    {
     "data": {
      "image/png": "[encoded data removed]",
      "text/plain": [
       "<Figure size 432x288 with 2 Axes>"
      ]
     },
     "metadata": {
      "needs_background": "light"
     },
     "output_type": "display_data"
    }
   ],
   "source": [
    "fig, ax_1 = plt.subplots()\n",
    "ax_2 = ax_1.twinx()\n",
    "p1 = ax_1.bar(df_tab[\"Degree\"], df_tab[\"Rsqr\"], width=0.8, color= '#E3B18D')\n",
    "p2 = ax_2.plot(df_tab[\"Degree\"], df_tab[\"Error\"], color=\"Darkgray\", linewidth = 3)\n",
    "\n",
    "\n",
    "ind = np.arange(len(r))\n",
    "ax_1.set_title('Evolution of the accuracy and RMSE per degree on the train set', pad = 20)\n",
    "ax_1.set_ylabel('R² Score')\n",
    "ax_1.set_xlabel('Number of degree')\n",
    "ax_2.set_ylabel('RMSE (€)')\n",
    "ax_1.bar_label(ax.containers[0],label_type='center')\n",
    "\n",
    "\n",
    "plt.show()"
   ]
  },
  {
   "cell_type": "code",
   "execution_count": null,
   "id": "a873be4c",
   "metadata": {},
   "outputs": [],
   "source": []
  }
 ],
 "metadata": {
  "kernelspec": {
   "display_name": "Python 3 (ipykernel)",
   "language": "python",
   "name": "python3"
  },
  "language_info": {
   "codemirror_mode": {
    "name": "ipython",
    "version": 3
   },
   "file_extension": ".py",
   "mimetype": "text/x-python",
   "name": "python",
   "nbconvert_exporter": "python",
   "pygments_lexer": "ipython3",
   "version": "3.10.1"
  }
 },
 "nbformat": 4,
 "nbformat_minor": 5
}
