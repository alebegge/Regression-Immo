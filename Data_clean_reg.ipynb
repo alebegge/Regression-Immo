{
 "cells": [
  {
   "cell_type": "markdown",
   "id": "d0866228",
   "metadata": {},
   "source": [
    "# This document goes through the data cleaning of your data set. \n",
    "\n",
    "\n",
    "### __Objectives__:\n",
    "- Remove the np.nan.\n",
    "- Transform all the data into numerical values. \n",
    "- Remove the outliers to have less distorsion. \n",
    "- Merge and create new variables using the One Hot Encoding. \n",
    "\n",
    "*** \n",
    "\n",
    "### __to do__: \n",
    "1. Create repository\n",
    "2. Cleaning the code and divide between data cleaning, modelisation\n",
    "3. Create modalization based on the preprocessing \n",
    "4. Create de README.MD file \n",
    "5. Clear and finishing the presentation support \n",
    "6. Try to modelize based on correlation between independant variables\n",
    "\n",
    "***"
   ]
  },
  {
   "cell_type": "markdown",
   "id": "5bb1af22",
   "metadata": {},
   "source": [
    "## A. Importing libraries "
   ]
  },
  {
   "cell_type": "code",
   "execution_count": 1,
   "id": "0bbdac09",
   "metadata": {},
   "outputs": [],
   "source": [
    "import pandas as pd\n",
    "import numpy as np \n",
    "import os \n",
    "import re\n",
    "import matplotlib.pyplot as plt\n",
    "import seaborn as sns\n",
    "from sklearn.datasets import make_regression\n",
    "from sklearn.preprocessing import PolynomialFeatures\n",
    "from sklearn.pipeline import make_pipeline\n",
    "import matplotlib.pyplot as plt"
   ]
  },
  {
   "cell_type": "markdown",
   "id": "4c8e745f",
   "metadata": {},
   "source": [
    "## B. Importing the csv "
   ]
  },
  {
   "cell_type": "code",
   "execution_count": 2,
   "id": "cc6eb11c",
   "metadata": {},
   "outputs": [],
   "source": [
    "path_data_set = os.path.join(os.path.abspath(''), 'data_cleaned.csv')\n",
    "df = pd.read_csv(path_data_set, sep=\";\")"
   ]
  },
  {
   "cell_type": "code",
   "execution_count": 3,
   "id": "79a23d18",
   "metadata": {
    "scrolled": true
   },
   "outputs": [
    {
     "name": "stdout",
     "output_type": "stream",
     "text": [
      "The orignal shape of our file is: (17347, 35). \n"
     ]
    }
   ],
   "source": [
    "print(f\"The orignal shape of our file is: {df.shape}. \")"
   ]
  },
  {
   "cell_type": "code",
   "execution_count": 4,
   "id": "f9ebeeea",
   "metadata": {},
   "outputs": [
    {
     "data": {
      "text/plain": [
       "ItemID                                 0\n",
       "Locality                               0\n",
       "Type of property                       0\n",
       "Subtype of property                    0\n",
       "Price                                  0\n",
       "Number of bedrooms                   453\n",
       "Livable surface                     1928\n",
       "Kitchen equipment                      0\n",
       "Number of bathrooms                    0\n",
       "Number of toilets                      0\n",
       "Floor of appartment                13109\n",
       "Number of floors                    9831\n",
       "Balcony                                0\n",
       "State of the property                  0\n",
       "Build Year                          8212\n",
       "Surface bedroom 1                   1756\n",
       "Furnished                              0\n",
       "Surface of living-room              1723\n",
       "Cellar                                 0\n",
       "Surface kitchen                     1825\n",
       "Entry phone                            0\n",
       "Elevator                               0\n",
       "Number of showers                      0\n",
       "Orientation of the front facade    12146\n",
       "Number of facades                      0\n",
       "Terrace                                0\n",
       "Surface terrace                      895\n",
       "Surface bedroom 2                   1772\n",
       "Security door                          0\n",
       "Access for disabled                    0\n",
       "Sewer Connection                       0\n",
       "Garden                                 0\n",
       "Surface garden                     14647\n",
       "Surface bedroom 3                   1823\n",
       "Garage                                 0\n",
       "dtype: int64"
      ]
     },
     "execution_count": 4,
     "metadata": {},
     "output_type": "execute_result"
    }
   ],
   "source": [
    "df.isna().sum()"
   ]
  },
  {
   "cell_type": "code",
   "execution_count": 5,
   "id": "8cad4e62",
   "metadata": {},
   "outputs": [
    {
     "data": {
      "text/plain": [
       "ItemID                               int64\n",
       "Locality                            object\n",
       "Type of property                    object\n",
       "Subtype of property                 object\n",
       "Price                                int64\n",
       "Number of bedrooms                 float64\n",
       "Livable surface                    float64\n",
       "Kitchen equipment                   object\n",
       "Number of bathrooms                  int64\n",
       "Number of toilets                    int64\n",
       "Floor of appartment                float64\n",
       "Number of floors                   float64\n",
       "Balcony                              int64\n",
       "State of the property               object\n",
       "Build Year                         float64\n",
       "Surface bedroom 1                   object\n",
       "Furnished                            int64\n",
       "Surface of living-room              object\n",
       "Cellar                               int64\n",
       "Surface kitchen                     object\n",
       "Entry phone                          int64\n",
       "Elevator                             int64\n",
       "Number of showers                    int64\n",
       "Orientation of the front facade     object\n",
       "Number of facades                    int64\n",
       "Terrace                              int64\n",
       "Surface terrace                    float64\n",
       "Surface bedroom 2                   object\n",
       "Security door                        int64\n",
       "Access for disabled                  int64\n",
       "Sewer Connection                     int64\n",
       "Garden                               int64\n",
       "Surface garden                     float64\n",
       "Surface bedroom 3                   object\n",
       "Garage                               int64\n",
       "dtype: object"
      ]
     },
     "execution_count": 5,
     "metadata": {},
     "output_type": "execute_result"
    }
   ],
   "source": [
    "df.dtypes"
   ]
  },
  {
   "cell_type": "markdown",
   "id": "426dbf2f",
   "metadata": {},
   "source": [
    "## C. Cleaning variables\n",
    "\n",
    "### 1. Creating a zip variable\n",
    "\n",
    "We are creating a new variable called zip.\n",
    "\n",
    "This variable is taking only the postcode as a value. "
   ]
  },
  {
   "cell_type": "code",
   "execution_count": 6,
   "id": "5011afec",
   "metadata": {},
   "outputs": [],
   "source": [
    "df[\"zip\"] = df[\"Locality\"].str.extract(r\"^(^\\d+)\")\n",
    "df[\"zip\"] = df[\"zip\"].astype(int)"
   ]
  },
  {
   "cell_type": "markdown",
   "id": "ae115efe",
   "metadata": {},
   "source": [
    "### 2. Province variable \n",
    "\n",
    "For each province in Belgium (10), we are creating a new variable using the One Hot Encoding technique. "
   ]
  },
  {
   "cell_type": "code",
   "execution_count": 7,
   "id": "9c2427b5",
   "metadata": {},
   "outputs": [],
   "source": [
    "df[\"Brussels\"] = np.where(df[\"zip\"].between(1000,1299),1, 0)\n",
    "df[\"Walloon Brabant\"] = np.where(df[\"zip\"].between(1300,1499),1, 0)\n",
    "df[\"Flemish Brabant\"] = np.where(df[\"zip\"].between(1500,1999),1, 0)\n",
    "df[\"Flemish Brabant\"] = np.where(df[\"zip\"].between(3000,3499),1, df[\"Flemish Brabant\"])\n",
    "df[\"Antwerp\"] = np.where(df[\"zip\"].between(2000,2999),1, 0)\n",
    "df[\"Limburg\"] = np.where(df[\"zip\"].between(3500,3999),1, 0)\n",
    "df[\"Liege\"] = np.where(df[\"zip\"].between(4000,4999),1, 0)\n",
    "df[\"Namur\"] = np.where(df[\"zip\"].between(5000,5999),1, 0)\n",
    "df[\"Hainaut\"] = np.where(df[\"zip\"].between(6000,6599),1, 0)\n",
    "df[\"Hainaut\"] = np.where(df[\"zip\"].between(7000,7999),1, df[\"Hainaut\"])\n",
    "df[\"Luxembourg\"] = np.where(df[\"zip\"].between(6600,6999),1, 0)\n",
    "df[\"West Flanders\"] = np.where(df[\"zip\"].between(8000,8999),1, 0)\n",
    "df[\"East Flanders\"] = np.where(df[\"zip\"].between(9000,9999),1, 0)"
   ]
  },
  {
   "cell_type": "markdown",
   "id": "bcac193f",
   "metadata": {},
   "source": [
    "We have just created 11 news variables. 1 zip and 10 provinces."
   ]
  },
  {
   "cell_type": "code",
   "execution_count": 8,
   "id": "ad24e8fe",
   "metadata": {},
   "outputs": [
    {
     "name": "stdout",
     "output_type": "stream",
     "text": [
      "The new shape of our dataframe is: (17347, 47)\n"
     ]
    }
   ],
   "source": [
    "print(f\"The new shape of our dataframe is: {df.shape}\")"
   ]
  },
  {
   "cell_type": "markdown",
   "id": "ce6eb529",
   "metadata": {},
   "source": [
    "### 3. Cleaning Number of bedrooms\n",
    "\n",
    "We are removing high unexplicable numbers and replacing the np.nan in order to have a int variable.\n",
    "\n",
    "We are removing 453 items. They have no values for Number of bedrooms.\n",
    "We are removing 4 items with absude high values."
   ]
  },
  {
   "cell_type": "code",
   "execution_count": 9,
   "id": "f7ccaf36",
   "metadata": {},
   "outputs": [],
   "source": [
    "df = df.drop(df[df['Number of bedrooms'].isna()].index)\n",
    "df = df.drop(df[df['Number of bedrooms'] > 20].index)"
   ]
  },
  {
   "cell_type": "code",
   "execution_count": 10,
   "id": "a2b1c9a8",
   "metadata": {},
   "outputs": [],
   "source": [
    "df[\"Number of bedrooms\"] = df[\"Number of bedrooms\"].astype(int)"
   ]
  },
  {
   "cell_type": "markdown",
   "id": "ffe851de",
   "metadata": {},
   "source": [
    "### 4. Cleaning Number of bathrooms\n",
    "\n",
    "Removing when higher than '6'. \n",
    "\n",
    "We are removing 23 items."
   ]
  },
  {
   "cell_type": "code",
   "execution_count": 11,
   "id": "82723239",
   "metadata": {},
   "outputs": [],
   "source": [
    "df = df.drop(df[df['Number of bathrooms'] > 6].index)"
   ]
  },
  {
   "cell_type": "code",
   "execution_count": 12,
   "id": "ee423b95",
   "metadata": {},
   "outputs": [],
   "source": [
    "df['Number of bathrooms'] = df[\"Number of bathrooms\"].astype(int)"
   ]
  },
  {
   "cell_type": "markdown",
   "id": "e427c95f",
   "metadata": {},
   "source": [
    "### 5. Cleaning Livable surface \n",
    "\n",
    "- We are removing all the np.nan because an item cannot have 0m² livable surface. \n",
    "- Removed the outliers (more than 2000m²) because they are not representative of the normal real estate marekt.\n",
    "\n",
    "We are removing more than 1200 items. "
   ]
  },
  {
   "cell_type": "code",
   "execution_count": 13,
   "id": "ee810760",
   "metadata": {},
   "outputs": [],
   "source": [
    "df = df.drop(df[df['Livable surface'].isna()].index)\n",
    "df = df.drop(df[df['Livable surface'] > 2000].index)"
   ]
  },
  {
   "cell_type": "code",
   "execution_count": 14,
   "id": "c78271b9",
   "metadata": {},
   "outputs": [],
   "source": [
    "df[\"Livable surface\"] = df[\"Livable surface\"].astype(int)"
   ]
  },
  {
   "cell_type": "markdown",
   "id": "a7c082a9",
   "metadata": {},
   "source": [
    "### 6. Cleaning Kitchen equipment \n",
    "\n",
    "- This is an ordinal variables. We can turn it into a numerical ordinal variable.\n",
    "- We decided to put super and fully at the same level because we are not sure what the difference is.\n",
    "\n",
    "\n",
    "- Not equipped = 0\n",
    "- Partially equipped = 1\n",
    "- Super / fully equipped = 2 "
   ]
  },
  {
   "cell_type": "code",
   "execution_count": 15,
   "id": "73d76b38",
   "metadata": {},
   "outputs": [],
   "source": [
    "df[\"Kitchen equipment\"] = np.where(df[\"Kitchen equipment\"] == \"Not equipped\",0, df[\"Kitchen equipment\"])\n",
    "df[\"Kitchen equipment\"] = np.where(df[\"Kitchen equipment\"] == \"Partially equipped\",1, df[\"Kitchen equipment\"])\n",
    "df[\"Kitchen equipment\"] = np.where(df[\"Kitchen equipment\"] == \"Super equipped\",2, df[\"Kitchen equipment\"])\n",
    "df[\"Kitchen equipment\"] = np.where(df[\"Kitchen equipment\"] == \"Fully equipped\",2, df[\"Kitchen equipment\"])"
   ]
  },
  {
   "cell_type": "code",
   "execution_count": 16,
   "id": "92980465",
   "metadata": {},
   "outputs": [],
   "source": [
    "df[\"Kitchen equipment\"] = df[\"Kitchen equipment\"].astype(int)"
   ]
  },
  {
   "cell_type": "markdown",
   "id": "07a54d52",
   "metadata": {},
   "source": [
    "### 7. Cleaning the Surface of living-room \n",
    "\n",
    "- We remove the item when the surface of living-room is higher than livable surface because it doesn't make any sens.\n",
    "- We also decided to remove all item with a surface of living-room higher than 500."
   ]
  },
  {
   "cell_type": "code",
   "execution_count": 17,
   "id": "71ccfc63",
   "metadata": {},
   "outputs": [],
   "source": [
    "df[\"Surface of living-room\"] = df[\"Surface of living-room\"].str.replace(',','.').astype(float)\n",
    "df[\"Surface of living-room\"] = df[\"Surface of living-room\"].apply(np.ceil)\n",
    "df[\"Surface of living-room\"] = df[\"Surface of living-room\"].astype(int)"
   ]
  },
  {
   "cell_type": "code",
   "execution_count": 18,
   "id": "342b4744",
   "metadata": {},
   "outputs": [],
   "source": [
    "df = df.drop(df[df[\"Surface of living-room\"] > df[\"Livable surface\"]].index)\n",
    "df = df.drop(df[df['Surface of living-room'] > 500].index)"
   ]
  },
  {
   "cell_type": "markdown",
   "id": "2f415f31",
   "metadata": {},
   "source": [
    "### 8. Cleaning Surface garden \n",
    "\n",
    "- We are comparing this variable with Garden.\n",
    "- Surface garden is False if Garden is also nul. \n",
    "- If Garden is True and Surface garden is False, we are changing the value with the value of the 1st quartile.\n",
    "- We are also removing the value of outliers (> 4000m²)"
   ]
  },
  {
   "cell_type": "code",
   "execution_count": 19,
   "id": "bf46c479",
   "metadata": {},
   "outputs": [],
   "source": [
    "df = df.drop(df[df['Surface garden'] > 4000].index)\n",
    "df['Surface garden'] = np.where((df[\"Garden\"] == 0), 0, df[\"Surface garden\"])"
   ]
  },
  {
   "cell_type": "code",
   "execution_count": 20,
   "id": "4a4b77d9",
   "metadata": {},
   "outputs": [
    {
     "data": {
      "text/plain": [
       "count    2567.000000\n",
       "mean      380.529801\n",
       "std       585.085113\n",
       "min         1.000000\n",
       "25%        65.000000\n",
       "50%       150.000000\n",
       "75%       414.000000\n",
       "max      4000.000000\n",
       "Name: Surface garden, dtype: float64"
      ]
     },
     "execution_count": 20,
     "metadata": {},
     "output_type": "execute_result"
    }
   ],
   "source": [
    "df[(df[\"Surface garden\"] > 0) & (df[\"Surface garden\"].notna())].describe()[\"Surface garden\"]"
   ]
  },
  {
   "cell_type": "code",
   "execution_count": 21,
   "id": "3f8a53c9",
   "metadata": {},
   "outputs": [],
   "source": [
    "df['Surface garden'] = np.where((df[\"Surface garden\"].isna()) & (df[\"Garden\"] == 1),65, df['Surface garden'])\n",
    "df[\"Surface garden\"] = df[\"Surface garden\"].astype(int)"
   ]
  },
  {
   "cell_type": "markdown",
   "id": "04a9df91",
   "metadata": {},
   "source": [
    "### 9. Cleaning Surface terrace\n",
    "\n",
    "- We are comparing this variable with Terrace.\n",
    "- Surface terrace is False if Garden is also False.\n",
    "- If Terrace is True and Surface Terrace is False, we are changing the value with the value of the 1st quartile.\n"
   ]
  },
  {
   "cell_type": "code",
   "execution_count": 22,
   "id": "5bf44f67",
   "metadata": {},
   "outputs": [],
   "source": [
    "df[\"Surface terrace\"] = np.where((df[\"Terrace\"] == 0),0, df[\"Surface terrace\"])"
   ]
  },
  {
   "cell_type": "code",
   "execution_count": 23,
   "id": "a1e3b29e",
   "metadata": {},
   "outputs": [
    {
     "data": {
      "text/plain": [
       "count    6382.000000\n",
       "mean       22.530868\n",
       "std        46.095996\n",
       "min         1.000000\n",
       "25%         8.000000\n",
       "50%        15.000000\n",
       "75%        25.000000\n",
       "max      2769.000000\n",
       "Name: Surface terrace, dtype: float64"
      ]
     },
     "execution_count": 23,
     "metadata": {},
     "output_type": "execute_result"
    }
   ],
   "source": [
    "df[(df[\"Surface terrace\"] > 0) & (df[\"Surface terrace\"].notna())].describe()[\"Surface terrace\"]"
   ]
  },
  {
   "cell_type": "code",
   "execution_count": 24,
   "id": "a939df2b",
   "metadata": {
    "scrolled": true
   },
   "outputs": [],
   "source": [
    "df[\"Surface terrace\"] = np.where(df['Surface terrace'].isna(), 8, df[\"Surface terrace\"])\n",
    "df[\"Surface terrace\"] = df[\"Surface terrace\"].astype(int)"
   ]
  },
  {
   "cell_type": "markdown",
   "id": "2cb8d91f",
   "metadata": {},
   "source": [
    "### 10. Cleaning Number of showers\n",
    "\n",
    "- Removing the outliers "
   ]
  },
  {
   "cell_type": "code",
   "execution_count": 25,
   "id": "e4f51158",
   "metadata": {},
   "outputs": [],
   "source": [
    "df = df.drop(df[df[\"Number of showers\"] > 6].index)"
   ]
  },
  {
   "cell_type": "markdown",
   "id": "a8a19db3",
   "metadata": {},
   "source": [
    "### 11. Cleaning Number of toilets \n",
    "\n",
    "- Removing outliers "
   ]
  },
  {
   "cell_type": "code",
   "execution_count": 26,
   "id": "84fa8626",
   "metadata": {},
   "outputs": [],
   "source": [
    "df = df.drop(df[df['Number of toilets'] > 6].index)"
   ]
  },
  {
   "cell_type": "markdown",
   "id": "89c53ee4",
   "metadata": {},
   "source": [
    "### 12. Cleaning State of property \n",
    "\n",
    "- This is an ordinal variables. We can turn it into a numerical ordinal variable.\n",
    "- We decided to put excellent and fully renovated at the same level because we are not sure what the difference is.\n",
    "\n",
    "\n",
    "- To be renovated = 0\n",
    "- Normal = 1\n",
    "- Excellent / fully renovated = 2 \n",
    "- New = 3"
   ]
  },
  {
   "cell_type": "code",
   "execution_count": 27,
   "id": "d3986a39",
   "metadata": {},
   "outputs": [],
   "source": [
    "df[\"State of the property\"] = np.where(df[\"State of the property\"] == \"To be renovated\", 0, df[\"State of the property\"])\n",
    "df[\"State of the property\"] = np.where(df[\"State of the property\"] == \"Normal\", 1, df[\"State of the property\"])\n",
    "df[\"State of the property\"] = np.where(df[\"State of the property\"] == \"Excellent\", 2, df[\"State of the property\"])\n",
    "df[\"State of the property\"] = np.where(df[\"State of the property\"] == \"Fully renovated\", 2, df[\"State of the property\"])\n",
    "df[\"State of the property\"] = np.where(df[\"State of the property\"] == \"New\", 3, df[\"State of the property\"])\n",
    "df[\"State of the property\"] = df[\"State of the property\"].astype(int)"
   ]
  },
  {
   "cell_type": "markdown",
   "id": "2c38d570",
   "metadata": {},
   "source": [
    "### 13. Cleaning Surface kitchen \n",
    "\n",
    "- We remove item when Surface kitchen higher than Livable surface. \n",
    "- We remove outliers (top 10 percentile). "
   ]
  },
  {
   "cell_type": "code",
   "execution_count": 28,
   "id": "9ce128f0",
   "metadata": {},
   "outputs": [],
   "source": [
    "df[\"Surface kitchen\"] = df[\"Surface kitchen\"].str.replace(',','.').astype(float)\n",
    "df[\"Surface kitchen\"].apply(np.ceil)\n",
    "df[\"Surface kitchen\"] = df[\"Surface kitchen\"].astype(int)\n",
    "df = df.drop(df[df['Surface kitchen'] > df['Livable surface']].index)"
   ]
  },
  {
   "cell_type": "code",
   "execution_count": 29,
   "id": "e9dc6bfc",
   "metadata": {},
   "outputs": [
    {
     "data": {
      "text/plain": [
       "count    14993.000000\n",
       "mean        15.615887\n",
       "std         11.953638\n",
       "min          0.000000\n",
       "0%           0.000000\n",
       "10%          7.000000\n",
       "20%          8.000000\n",
       "30%         10.000000\n",
       "40%         11.000000\n",
       "50%         12.000000\n",
       "60%         15.000000\n",
       "70%         17.000000\n",
       "80%         20.000000\n",
       "90%         27.000000\n",
       "max        176.000000\n",
       "Name: Surface kitchen, dtype: float64"
      ]
     },
     "execution_count": 29,
     "metadata": {},
     "output_type": "execute_result"
    }
   ],
   "source": [
    "df[\"Surface kitchen\"].describe(percentiles=np.arange(0,1,0.1))"
   ]
  },
  {
   "cell_type": "code",
   "execution_count": 30,
   "id": "1cccfc93",
   "metadata": {},
   "outputs": [],
   "source": [
    "df = df.drop(df[df[\"Surface kitchen\"]>27].index)"
   ]
  },
  {
   "cell_type": "markdown",
   "id": "36c3f75f",
   "metadata": {},
   "source": [
    "### 14. Cleaning Facade orientation\n",
    "\n",
    "- We are creating a new variable called Orientation South when the orientation is South."
   ]
  },
  {
   "cell_type": "code",
   "execution_count": 31,
   "id": "059fa94d",
   "metadata": {},
   "outputs": [
    {
     "data": {
      "text/plain": [
       "South         1041\n",
       "South-west     764\n",
       "South-east     539\n",
       "West           511\n",
       "East           450\n",
       "North-west     342\n",
       "North-east     319\n",
       "North          307\n",
       "Name: Orientation of the front facade, dtype: int64"
      ]
     },
     "execution_count": 31,
     "metadata": {},
     "output_type": "execute_result"
    }
   ],
   "source": [
    "df[\"Orientation of the front facade\"].value_counts()"
   ]
  },
  {
   "cell_type": "code",
   "execution_count": 32,
   "id": "4d6b1db9",
   "metadata": {},
   "outputs": [],
   "source": [
    "df[\"Orientation South\"] = np.where(df[\"Orientation of the front facade\"] == \"South\", 1, 0)\n",
    "df[\"Orientation South\"] = np.where(df[\"Orientation of the front facade\"] == \"South-west\", 1, df[\"Orientation South\"])\n",
    "df[\"Orientation South\"] = np.where(df[\"Orientation of the front facade\"] == \"South-east\", 1, df[\"Orientation South\"])"
   ]
  },
  {
   "cell_type": "code",
   "execution_count": 33,
   "id": "0f9288fe",
   "metadata": {},
   "outputs": [
    {
     "data": {
      "text/plain": [
       "0    11285\n",
       "1     2344\n",
       "Name: Orientation South, dtype: int64"
      ]
     },
     "execution_count": 33,
     "metadata": {},
     "output_type": "execute_result"
    }
   ],
   "source": [
    "df[\"Orientation South\"].value_counts()"
   ]
  },
  {
   "cell_type": "markdown",
   "id": "893b5678",
   "metadata": {},
   "source": [
    "### 15. Cleaning Build Year\n",
    "\n",
    "- Change by hand 3 missed values.\n",
    "- We are removing this column because a lot of missed value and not good solution to replace it. "
   ]
  },
  {
   "cell_type": "code",
   "execution_count": 34,
   "id": "a179a5bf",
   "metadata": {},
   "outputs": [],
   "source": [
    "df['Build Year'] = np.where(df['Build Year'] == 22018, 2018, df['Build Year'])\n",
    "df['Build Year'] = np.where(df['Build Year'] == 20121, 2012, df['Build Year'])\n",
    "df['Build Year'] = np.where(df['Build Year'] == 19654, 1965, df['Build Year'])"
   ]
  },
  {
   "cell_type": "code",
   "execution_count": 35,
   "id": "02639897",
   "metadata": {},
   "outputs": [],
   "source": [
    "df = df.drop(columns=[\"Build Year\"])"
   ]
  },
  {
   "cell_type": "markdown",
   "id": "eb2223d5",
   "metadata": {},
   "source": [
    "### 16. Cleaning Number of facades\n",
    "\n",
    "- Remove when the number if higher than 4 because it makes no sens. "
   ]
  },
  {
   "cell_type": "code",
   "execution_count": 36,
   "id": "356053f1",
   "metadata": {},
   "outputs": [],
   "source": [
    "df = df.drop(df[df[\"Number of facades\"] > 4].index)"
   ]
  },
  {
   "cell_type": "markdown",
   "id": "799e74d1",
   "metadata": {},
   "source": [
    "### 17. Cleaning Type of property \n",
    "\n",
    "- We are making a new variable using the One Hot Encoding method. \n",
    "- House = 1 \n",
    "- Appartment = 0"
   ]
  },
  {
   "cell_type": "code",
   "execution_count": 37,
   "id": "81bc3189",
   "metadata": {},
   "outputs": [
    {
     "data": {
      "text/plain": [
       "0    7376\n",
       "1    6253\n",
       "Name: Type property, dtype: int64"
      ]
     },
     "execution_count": 37,
     "metadata": {},
     "output_type": "execute_result"
    }
   ],
   "source": [
    "df['Type property'] = np.where(df['Type of property'] == \"house\", 1,0)\n",
    "df['Type property'].value_counts()"
   ]
  },
  {
   "cell_type": "markdown",
   "id": "ff71a6ca",
   "metadata": {},
   "source": [
    "### 18. Cleaning Surface bedroom 1\n",
    "\n",
    "- Remove when higher than Livable surface\n",
    "- Remove outliers when higher than 80m² \n",
    "- Remove one item by hand"
   ]
  },
  {
   "cell_type": "code",
   "execution_count": 38,
   "id": "0c9b4306",
   "metadata": {},
   "outputs": [],
   "source": [
    "df[\"Surface bedroom 1\"] = df[\"Surface bedroom 1\"].str.replace(',','.').astype(float)\n",
    "df['Surface bedroom 1'] = df[\"Surface bedroom 1\"].apply(np.ceil)\n",
    "df['Surface bedroom 1'] = df['Surface bedroom 1'].astype(int)"
   ]
  },
  {
   "cell_type": "code",
   "execution_count": 39,
   "id": "301a606b",
   "metadata": {},
   "outputs": [],
   "source": [
    "df = df.drop(df[df[\"Surface bedroom 1\"]>df[\"Livable surface\"]].index)\n",
    "df = df.drop(1034)\n",
    "df = df.drop(df[df[\"Surface bedroom 1\"]> 80].index)"
   ]
  },
  {
   "cell_type": "markdown",
   "id": "fb2212e6",
   "metadata": {},
   "source": [
    "## D. Removing useless and duplicates variables"
   ]
  },
  {
   "cell_type": "markdown",
   "id": "39f64bab",
   "metadata": {},
   "source": [
    "### 1. Removing useless variables "
   ]
  },
  {
   "cell_type": "code",
   "execution_count": 40,
   "id": "2bdca73f",
   "metadata": {
    "scrolled": true
   },
   "outputs": [],
   "source": [
    "df = df.drop(columns=[\"ItemID\", 'Locality', \"Subtype of property\", \"Floor of appartment\", \"Orientation of the front facade\"])"
   ]
  },
  {
   "cell_type": "markdown",
   "id": "774e4cf1",
   "metadata": {},
   "source": [
    "### 2. Removing non-exploitable variables "
   ]
  },
  {
   "cell_type": "code",
   "execution_count": 41,
   "id": "51cd1aa4",
   "metadata": {},
   "outputs": [],
   "source": [
    "df = df.drop(columns=[\"Elevator\",\n",
    "                     \"Surface bedroom 2\",\n",
    "                     \"Surface bedroom 3\",\n",
    "                     \"Number of floors\",\n",
    "                     \"Entry phone\"])"
   ]
  },
  {
   "cell_type": "markdown",
   "id": "41bf10ed",
   "metadata": {},
   "source": [
    "### 3. Removing duplicate variables"
   ]
  },
  {
   "cell_type": "code",
   "execution_count": 42,
   "id": "7d97869f",
   "metadata": {},
   "outputs": [],
   "source": [
    "df = df.drop(columns=[\"zip\",\n",
    "                \"Type of property\",\n",
    "                \"Garden\",\n",
    "                \"Terrace\"])"
   ]
  },
  {
   "cell_type": "markdown",
   "id": "fd154324",
   "metadata": {},
   "source": [
    "## E. Description after cleaning"
   ]
  },
  {
   "cell_type": "code",
   "execution_count": 43,
   "id": "c97dbdbb",
   "metadata": {},
   "outputs": [
    {
     "data": {
      "text/plain": [
       "(13618, 34)"
      ]
     },
     "execution_count": 43,
     "metadata": {},
     "output_type": "execute_result"
    }
   ],
   "source": [
    "df.shape"
   ]
  },
  {
   "cell_type": "code",
   "execution_count": 44,
   "id": "3957730c",
   "metadata": {
    "scrolled": true
   },
   "outputs": [
    {
     "data": {
      "text/plain": [
       "Price                     int64\n",
       "Number of bedrooms        int32\n",
       "Livable surface           int32\n",
       "Kitchen equipment         int32\n",
       "Number of bathrooms       int32\n",
       "Number of toilets         int64\n",
       "Balcony                   int64\n",
       "State of the property     int32\n",
       "Surface bedroom 1         int32\n",
       "Furnished                 int64\n",
       "Surface of living-room    int32\n",
       "Cellar                    int64\n",
       "Surface kitchen           int32\n",
       "Number of showers         int64\n",
       "Number of facades         int64\n",
       "Surface terrace           int32\n",
       "Security door             int64\n",
       "Access for disabled       int64\n",
       "Sewer Connection          int64\n",
       "Surface garden            int32\n",
       "Garage                    int64\n",
       "Brussels                  int32\n",
       "Walloon Brabant           int32\n",
       "Flemish Brabant           int32\n",
       "Antwerp                   int32\n",
       "Limburg                   int32\n",
       "Liege                     int32\n",
       "Namur                     int32\n",
       "Hainaut                   int32\n",
       "Luxembourg                int32\n",
       "West Flanders             int32\n",
       "East Flanders             int32\n",
       "Orientation South         int32\n",
       "Type property             int32\n",
       "dtype: object"
      ]
     },
     "execution_count": 44,
     "metadata": {},
     "output_type": "execute_result"
    }
   ],
   "source": [
    "df.dtypes"
   ]
  },
  {
   "cell_type": "markdown",
   "id": "216c3ae8",
   "metadata": {},
   "source": [
    "## F. Saving the file into a CSV file"
   ]
  },
  {
   "cell_type": "code",
   "execution_count": 45,
   "id": "f321db02",
   "metadata": {},
   "outputs": [],
   "source": [
    "df.to_csv('data_cleaned_reg.csv')"
   ]
  }
 ],
 "metadata": {
  "kernelspec": {
   "display_name": "Python 3 (ipykernel)",
   "language": "python",
   "name": "python3"
  },
  "language_info": {
   "codemirror_mode": {
    "name": "ipython",
    "version": 3
   },
   "file_extension": ".py",
   "mimetype": "text/x-python",
   "name": "python",
   "nbconvert_exporter": "python",
   "pygments_lexer": "ipython3",
   "version": "3.9.2"
  }
 },
 "nbformat": 4,
 "nbformat_minor": 5
}
